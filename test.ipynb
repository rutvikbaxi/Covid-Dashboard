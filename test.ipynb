{
 "cells": [
  {
   "cell_type": "code",
   "execution_count": 1,
   "metadata": {},
   "outputs": [],
   "source": [
    "import pandas as pd\n",
    "df_india=pd.read_csv('df_india.csv')\n",
    "df_statewise=pd.read_csv('df_statewise.csv')\n",
    "#df_india_daily=pd.read_csv('df_india_daily.csv')\n",
    "#df_daily_statewise=pd.read_csv('df_daily_statewise.csv')\n",
    "#df_india_daily=df_india_daily[df_india_daily['active']>=0]\n",
    "#import matplotlib.pyplot as plt\n"
   ]
  },
  {
   "cell_type": "code",
   "execution_count": 5,
   "metadata": {},
   "outputs": [
    {
     "output_type": "execute_result",
     "data": {
      "text/plain": "                 loc  total  deaths  discharged        date  active  perdeath  \\\n230   Andhra Pradesh      8       0           0  2020-03-24       8      0.00   \n231            Bihar      3       1           0  2020-03-24       2     33.33   \n232     Chhattisgarh      1       0           0  2020-03-24       1      0.00   \n233            Delhi     30       2           6  2020-03-24      22      6.67   \n234          Gujarat     33       1           0  2020-03-24      32      3.03   \n...              ...    ...     ...         ...         ...     ...       ...   \n2372       Telengana   2425      71        1381  2020-05-30     973      2.93   \n2373         Tripura    251       0         171  2020-05-30      80      0.00   \n2374     Uttarakhand    716       5         102  2020-05-30     609      0.70   \n2375   Uttar Pradesh   7284     198        4244  2020-05-30    2842      2.72   \n2376     West Bengal   4813     302        1775  2020-05-30    2736      6.27   \n\n      perdis  peractive  \n230     0.00     100.00  \n231     0.00      66.67  \n232     0.00     100.00  \n233    20.00      73.33  \n234     0.00      96.97  \n...      ...        ...  \n2372   56.95      40.12  \n2373   68.13      31.87  \n2374   14.25      85.06  \n2375   58.26      39.02  \n2376   36.88      56.85  \n\n[157 rows x 9 columns]",
      "text/html": "<div>\n<style scoped>\n    .dataframe tbody tr th:only-of-type {\n        vertical-align: middle;\n    }\n\n    .dataframe tbody tr th {\n        vertical-align: top;\n    }\n\n    .dataframe thead th {\n        text-align: right;\n    }\n</style>\n<table border=\"1\" class=\"dataframe\">\n  <thead>\n    <tr style=\"text-align: right;\">\n      <th></th>\n      <th>loc</th>\n      <th>total</th>\n      <th>deaths</th>\n      <th>discharged</th>\n      <th>date</th>\n      <th>active</th>\n      <th>perdeath</th>\n      <th>perdis</th>\n      <th>peractive</th>\n    </tr>\n  </thead>\n  <tbody>\n    <tr>\n      <td>230</td>\n      <td>Andhra Pradesh</td>\n      <td>8</td>\n      <td>0</td>\n      <td>0</td>\n      <td>2020-03-24</td>\n      <td>8</td>\n      <td>0.00</td>\n      <td>0.00</td>\n      <td>100.00</td>\n    </tr>\n    <tr>\n      <td>231</td>\n      <td>Bihar</td>\n      <td>3</td>\n      <td>1</td>\n      <td>0</td>\n      <td>2020-03-24</td>\n      <td>2</td>\n      <td>33.33</td>\n      <td>0.00</td>\n      <td>66.67</td>\n    </tr>\n    <tr>\n      <td>232</td>\n      <td>Chhattisgarh</td>\n      <td>1</td>\n      <td>0</td>\n      <td>0</td>\n      <td>2020-03-24</td>\n      <td>1</td>\n      <td>0.00</td>\n      <td>0.00</td>\n      <td>100.00</td>\n    </tr>\n    <tr>\n      <td>233</td>\n      <td>Delhi</td>\n      <td>30</td>\n      <td>2</td>\n      <td>6</td>\n      <td>2020-03-24</td>\n      <td>22</td>\n      <td>6.67</td>\n      <td>20.00</td>\n      <td>73.33</td>\n    </tr>\n    <tr>\n      <td>234</td>\n      <td>Gujarat</td>\n      <td>33</td>\n      <td>1</td>\n      <td>0</td>\n      <td>2020-03-24</td>\n      <td>32</td>\n      <td>3.03</td>\n      <td>0.00</td>\n      <td>96.97</td>\n    </tr>\n    <tr>\n      <td>...</td>\n      <td>...</td>\n      <td>...</td>\n      <td>...</td>\n      <td>...</td>\n      <td>...</td>\n      <td>...</td>\n      <td>...</td>\n      <td>...</td>\n      <td>...</td>\n    </tr>\n    <tr>\n      <td>2372</td>\n      <td>Telengana</td>\n      <td>2425</td>\n      <td>71</td>\n      <td>1381</td>\n      <td>2020-05-30</td>\n      <td>973</td>\n      <td>2.93</td>\n      <td>56.95</td>\n      <td>40.12</td>\n    </tr>\n    <tr>\n      <td>2373</td>\n      <td>Tripura</td>\n      <td>251</td>\n      <td>0</td>\n      <td>171</td>\n      <td>2020-05-30</td>\n      <td>80</td>\n      <td>0.00</td>\n      <td>68.13</td>\n      <td>31.87</td>\n    </tr>\n    <tr>\n      <td>2374</td>\n      <td>Uttarakhand</td>\n      <td>716</td>\n      <td>5</td>\n      <td>102</td>\n      <td>2020-05-30</td>\n      <td>609</td>\n      <td>0.70</td>\n      <td>14.25</td>\n      <td>85.06</td>\n    </tr>\n    <tr>\n      <td>2375</td>\n      <td>Uttar Pradesh</td>\n      <td>7284</td>\n      <td>198</td>\n      <td>4244</td>\n      <td>2020-05-30</td>\n      <td>2842</td>\n      <td>2.72</td>\n      <td>58.26</td>\n      <td>39.02</td>\n    </tr>\n    <tr>\n      <td>2376</td>\n      <td>West Bengal</td>\n      <td>4813</td>\n      <td>302</td>\n      <td>1775</td>\n      <td>2020-05-30</td>\n      <td>2736</td>\n      <td>6.27</td>\n      <td>36.88</td>\n      <td>56.85</td>\n    </tr>\n  </tbody>\n</table>\n<p>157 rows × 9 columns</p>\n</div>"
     },
     "metadata": {},
     "execution_count": 5
    }
   ],
   "source": [
    "date_list=['2020-03-24', '2020-04-14', '2020-05-01', '2020-05-17','2020-05-30',]\n",
    "df2=df[df['date'].isin(date_list)]"
   ]
  },
  {
   "cell_type": "code",
   "execution_count": 12,
   "metadata": {},
   "outputs": [],
   "source": [
    "df=df_india\n",
    "date_list=['2020-03-24', '2020-04-14', '2020-05-01', '2020-05-17','2020-05-30',df[-1:].date.values[0]]\n",
    "df2=df[df['date'].isin(date_list)]\n",
    "for i in range(0,4):\n",
    "    x=date_list[i]\n",
    "    df2.loc[df2['date']==x,'lockdown']='Lockdown {}'.format(i)\n",
    "df2.loc[df2['date']=='2020-05-30','lockdown']='Unlock {}'.format(1)\n",
    "df2.loc[df2['date']==df[-1:].date.values[0],'lockdown']='Present'"
   ]
  },
  {
   "cell_type": "code",
   "execution_count": 18,
   "metadata": {},
   "outputs": [
    {
     "output_type": "execute_result",
     "data": {
      "text/plain": "                loc  total  active  deaths  discharged   Latitude  Longitude\n0             Delhi      4       4       0           0  28.645944  77.128045\n1           Haryana     14      14       0           0  29.195616  76.521237\n2         Karnataka      1       1       0           0  14.369817  76.299625\n3            Kerala      9       9       0           0  10.326706  76.217706\n4       Maharashtra      2       2       0           0  19.392516  75.270554\n...             ...    ...     ...     ...         ...        ...        ...\n2816    Maharashtra  97648   47980    3590       46078  19.392516  75.270554\n2823         Punjab   2887     569      59        2259  30.912061  75.452952\n2824      Rajasthan  11838    2798     265        8775  26.493282  75.225395\n2826     Tamil Nadu  38716   17662     349       20705  11.159711  78.762747\n2830  Uttar Pradesh  12088    4451     345        7292  27.069163  80.659192\n\n[1138 rows x 7 columns]",
      "text/html": "<div>\n<style scoped>\n    .dataframe tbody tr th:only-of-type {\n        vertical-align: middle;\n    }\n\n    .dataframe tbody tr th {\n        vertical-align: top;\n    }\n\n    .dataframe thead th {\n        text-align: right;\n    }\n</style>\n<table border=\"1\" class=\"dataframe\">\n  <thead>\n    <tr style=\"text-align: right;\">\n      <th></th>\n      <th>loc</th>\n      <th>total</th>\n      <th>active</th>\n      <th>deaths</th>\n      <th>discharged</th>\n      <th>Latitude</th>\n      <th>Longitude</th>\n    </tr>\n  </thead>\n  <tbody>\n    <tr>\n      <td>0</td>\n      <td>Delhi</td>\n      <td>4</td>\n      <td>4</td>\n      <td>0</td>\n      <td>0</td>\n      <td>28.645944</td>\n      <td>77.128045</td>\n    </tr>\n    <tr>\n      <td>1</td>\n      <td>Haryana</td>\n      <td>14</td>\n      <td>14</td>\n      <td>0</td>\n      <td>0</td>\n      <td>29.195616</td>\n      <td>76.521237</td>\n    </tr>\n    <tr>\n      <td>2</td>\n      <td>Karnataka</td>\n      <td>1</td>\n      <td>1</td>\n      <td>0</td>\n      <td>0</td>\n      <td>14.369817</td>\n      <td>76.299625</td>\n    </tr>\n    <tr>\n      <td>3</td>\n      <td>Kerala</td>\n      <td>9</td>\n      <td>9</td>\n      <td>0</td>\n      <td>0</td>\n      <td>10.326706</td>\n      <td>76.217706</td>\n    </tr>\n    <tr>\n      <td>4</td>\n      <td>Maharashtra</td>\n      <td>2</td>\n      <td>2</td>\n      <td>0</td>\n      <td>0</td>\n      <td>19.392516</td>\n      <td>75.270554</td>\n    </tr>\n    <tr>\n      <td>...</td>\n      <td>...</td>\n      <td>...</td>\n      <td>...</td>\n      <td>...</td>\n      <td>...</td>\n      <td>...</td>\n      <td>...</td>\n    </tr>\n    <tr>\n      <td>2816</td>\n      <td>Maharashtra</td>\n      <td>97648</td>\n      <td>47980</td>\n      <td>3590</td>\n      <td>46078</td>\n      <td>19.392516</td>\n      <td>75.270554</td>\n    </tr>\n    <tr>\n      <td>2823</td>\n      <td>Punjab</td>\n      <td>2887</td>\n      <td>569</td>\n      <td>59</td>\n      <td>2259</td>\n      <td>30.912061</td>\n      <td>75.452952</td>\n    </tr>\n    <tr>\n      <td>2824</td>\n      <td>Rajasthan</td>\n      <td>11838</td>\n      <td>2798</td>\n      <td>265</td>\n      <td>8775</td>\n      <td>26.493282</td>\n      <td>75.225395</td>\n    </tr>\n    <tr>\n      <td>2826</td>\n      <td>Tamil Nadu</td>\n      <td>38716</td>\n      <td>17662</td>\n      <td>349</td>\n      <td>20705</td>\n      <td>11.159711</td>\n      <td>78.762747</td>\n    </tr>\n    <tr>\n      <td>2830</td>\n      <td>Uttar Pradesh</td>\n      <td>12088</td>\n      <td>4451</td>\n      <td>345</td>\n      <td>7292</td>\n      <td>27.069163</td>\n      <td>80.659192</td>\n    </tr>\n  </tbody>\n</table>\n<p>1138 rows × 7 columns</p>\n</div>"
     },
     "metadata": {},
     "execution_count": 18
    }
   ],
   "source": [
    "#df_statewise['days']=df_statewise['date'].apply(lambda x: (pd.to_datetime(x)-pd.to_datetime('2020-03-10')).days)\n",
    "df_statewise[df_statewise['loc'].isin(df_statewise[:35]['loc'].values)]"
   ]
  },
  {
   "cell_type": "code",
   "execution_count": 33,
   "metadata": {},
   "outputs": [
    {
     "output_type": "execute_result",
     "data": {
      "text/plain": "array(['Delhi', 'Haryana', 'Karnataka', 'Kerala', 'Maharashtra', 'Punjab',\n       'Rajasthan', 'Tamil Nadu', 'Telengana', 'Jammu and Kashmir',\n       'Ladakh', 'Uttar Pradesh', 'Delhi', 'Haryana', 'Karnataka',\n       'Kerala', 'Maharashtra', 'Punjab', 'Rajasthan', 'Tamil Nadu',\n       'Telengana', 'Jammu and Kashmir', 'Ladakh', 'Uttar Pradesh',\n       'Delhi', 'Haryana', 'Karnataka', 'Kerala', 'Maharashtra', 'Punjab',\n       'Rajasthan', 'Tamil Nadu', 'Telengana', 'Jammu and Kashmir',\n       'Ladakh'], dtype=object)"
     },
     "metadata": {},
     "execution_count": 33
    }
   ],
   "source": [
    "import numpy as np\n",
    "df_statewise[0:35]['loc'].values"
   ]
  },
  {
   "cell_type": "code",
   "execution_count": 65,
   "metadata": {},
   "outputs": [],
   "source": [
    "df_coords_state=pd.read_csv('state wise centroids_2011.csv')\n",
    "df_statewise=pd.read_csv('df_statewise.csv')\n",
    "#df_statewise=df_statewise[-35:]\n",
    "df_statewise[-70:-35]\n",
    "df_statewise=df_statewise[['loc','total','active','deaths','discharged']]\n",
    "df_statewise.reset_index(inplace=True, drop=True)\n",
    "df_statewise=df_statewise[df_statewise['loc']!='Daman & Diu']\n",
    "df_statewise.loc[df_statewise['loc']=='Telangana','loc']='Telengana'\n",
    "df_statewise.loc[df_statewise['loc']=='Dadra and Nagar Haveli and Daman and Diu','loc']='Dadar Nagar Haveli'\n",
    "for state in df_statewise['loc'].unique():\n",
    "   df_statewise.loc[df_statewise['loc']==state,'Latitude']=df_coords_state[df_coords_state['State']==state]#['Latitude'].values[0]\n",
    "   df_statewise.loc[df_statewise['loc']==state,'Longitude']=df_coords_state[df_coords_state['State']==state]['Longitude'].values[0]\n",
    "df=df_statewise"
   ]
  },
  {
   "cell_type": "code",
   "execution_count": 52,
   "metadata": {},
   "outputs": [
    {
     "output_type": "stream",
     "name": "stdout",
     "text": "Delhi\n[77.12804518]\nHaryana\n[76.52123743]\nKarnataka\n[76.29962468]\nKerala\n[76.21770621]\nMaharashtra\n[75.27055447]\nPunjab\n[75.45295226]\nRajasthan\n[75.22539475]\nTamil Nadu\n[78.76274652]\nTelengana\n[78.4867]\nJammu and Kashmir\n[75.00063062]\nLadakh\n[77.577049]\nUttar Pradesh\n[80.65919244]\nAndhra Pradesh\n[79.91620298]\nUttarakhand\n[78.84563219]\nOdisha\n[84.98396584]\nPuducherry\n[79.75997363]\nWest Bengal\n[88.14959609]\nChhattisgarh\n[82.12509334]\nChandigarh\n[76.75872466]\nGujarat\n[72.19574739]\nHimachal Pradesh\n[76.85561814]\nMadhya Pradesh\n[78.08249213]\nBihar\n[85.63677401]\nManipur\n[93.8644935]\nMizoram\n[92.81661901]\nAndaman and Nicobar Islands\n[92.88957896]\nGoa\n[73.86601626]\nAssam\n[92.65731036]\nJharkhand\n[85.85996246]\nArunachal Pradesh\n[94.54532681]\nTripura\n[91.65871314]\nNagaland\n[94.3257526]\nMeghalaya\n[91.2375107]\nDadar Nagar Haveli\n[73.09454961]\nSikkim\n[88.51230522]\nDadra and Nagar Haveli and Daman and Diu\n[]\n"
    }
   ],
   "source": [
    "for state in df_statewise['loc'].unique():\n",
    "    print(state)\n",
    "    print(df_coords_state[df_coords_state['State']==state]['Longitude'].values)\n",
    "    "
   ]
  },
  {
   "cell_type": "code",
   "execution_count": 60,
   "metadata": {},
   "outputs": [
    {
     "output_type": "execute_result",
     "data": {
      "text/plain": "36"
     },
     "metadata": {},
     "execution_count": 60
    }
   ],
   "source": [
    "#import numpy as np\n",
    "df_statewise['loc'].nunique()"
   ]
  },
  {
   "cell_type": "code",
   "execution_count": 64,
   "metadata": {},
   "outputs": [
    {
     "output_type": "execute_result",
     "data": {
      "text/plain": "array(['Delhi', 'Haryana', 'Karnataka', 'Kerala', 'Maharashtra', 'Punjab',\n       'Rajasthan', 'Tamil Nadu', 'Telengana', 'Jammu and Kashmir',\n       'Ladakh', 'Uttar Pradesh', 'Andhra Pradesh', 'Uttarakhand',\n       'Odisha', 'Puducherry', 'West Bengal', 'Chhattisgarh',\n       'Chandigarh', 'Gujarat', 'Himachal Pradesh', 'Madhya Pradesh',\n       'Bihar', 'Manipur', 'Mizoram', 'Andaman and Nicobar Islands',\n       'Goa', 'Assam', 'Jharkhand', 'Arunachal Pradesh', 'Tripura',\n       'Nagaland', 'Meghalaya', 'Dadar Nagar Haveli', 'Sikkim',\n       'Dadra and Nagar Haveli and Daman and Diu'], dtype=object)"
     },
     "metadata": {},
     "execution_count": 64
    }
   ],
   "source": [
    "df_statewise['loc'].unique()"
   ]
  },
  {
   "cell_type": "code",
   "execution_count": 62,
   "metadata": {},
   "outputs": [
    {
     "output_type": "execute_result",
     "data": {
      "text/plain": "                                           loc  total  active  deaths  \\\n2769  Dadra and Nagar Haveli and Daman and Diu     28      26       0   \n2804  Dadra and Nagar Haveli and Daman and Diu     30      28       0   \n\n      discharged  Latitude  Longitude  \n2769           2       NaN        NaN  \n2804           2       NaN        NaN  ",
      "text/html": "<div>\n<style scoped>\n    .dataframe tbody tr th:only-of-type {\n        vertical-align: middle;\n    }\n\n    .dataframe tbody tr th {\n        vertical-align: top;\n    }\n\n    .dataframe thead th {\n        text-align: right;\n    }\n</style>\n<table border=\"1\" class=\"dataframe\">\n  <thead>\n    <tr style=\"text-align: right;\">\n      <th></th>\n      <th>loc</th>\n      <th>total</th>\n      <th>active</th>\n      <th>deaths</th>\n      <th>discharged</th>\n      <th>Latitude</th>\n      <th>Longitude</th>\n    </tr>\n  </thead>\n  <tbody>\n    <tr>\n      <td>2769</td>\n      <td>Dadra and Nagar Haveli and Daman and Diu</td>\n      <td>28</td>\n      <td>26</td>\n      <td>0</td>\n      <td>2</td>\n      <td>NaN</td>\n      <td>NaN</td>\n    </tr>\n    <tr>\n      <td>2804</td>\n      <td>Dadra and Nagar Haveli and Daman and Diu</td>\n      <td>30</td>\n      <td>28</td>\n      <td>0</td>\n      <td>2</td>\n      <td>NaN</td>\n      <td>NaN</td>\n    </tr>\n  </tbody>\n</table>\n</div>"
     },
     "metadata": {},
     "execution_count": 62
    }
   ],
   "source": [
    "df_statewise[df_statewise['loc']=='Dadra and Nagar Haveli and Daman and Diu']"
   ]
  },
  {
   "cell_type": "code",
   "execution_count": 6,
   "metadata": {},
   "outputs": [],
   "source": [
    "import plotly.graph_objects as go\n",
    "from plotly.subplots import make_subplots\n"
   ]
  },
  {
   "cell_type": "code",
   "execution_count": 49,
   "metadata": {},
   "outputs": [
    {
     "output_type": "execute_result",
     "data": {
      "text/plain": "array(['Delhi', 'Haryana', 'Karnataka', 'Kerala', 'Maharashtra', 'Punjab',\n       'Rajasthan', 'Tamil Nadu', 'Telengana', 'Jammu and Kashmir',\n       'Ladakh', 'Uttar Pradesh', 'Andhra Pradesh', 'Uttarakhand',\n       'Odisha', 'Puducherry', 'West Bengal', 'Chhattisgarh',\n       'Chandigarh', 'Gujarat', 'Himachal Pradesh', 'Madhya Pradesh',\n       'Bihar', 'Manipur', 'Mizoram', 'Goa', 'Assam', 'Jharkhand',\n       'Arunachal Pradesh', 'Tripura', 'Nagaland', 'Meghalaya',\n       'Dadar Nagar Haveli', 'Sikkim', 'Daman & Diu'], dtype=object)"
     },
     "metadata": {},
     "execution_count": 49
    }
   ],
   "source": [
    "np.delete(df_statewise['loc'].unique(),np.where(df_statewise['loc'].unique()=='Andaman and Nicobar Islands'))"
   ]
  },
  {
   "cell_type": "code",
   "execution_count": 3,
   "metadata": {},
   "outputs": [
    {
     "output_type": "stream",
     "name": "stdout",
     "text": "24.148888888888887\n"
    }
   ],
   "source": [
    "import pandas as pd\n",
    "df_timestamp=pd.read_csv('df_timestamp.csv')\n",
    "timestamp=pd.to_datetime(df_timestamp.loc[0].values[0])\n",
    "from datetime import datetime\n",
    "print(((datetime.today()-timestamp).seconds/3600 + (datetime.today()-timestamp).days*24))\n"
   ]
  },
  {
   "cell_type": "code",
   "execution_count": 25,
   "metadata": {},
   "outputs": [
    {
     "output_type": "execute_result",
     "data": {
      "text/plain": "0        0.000000\n1        0.000000\n3        0.000000\n4        0.000000\n5        0.000000\n         ...     \n81    3423.285714\n82    3332.428571\n83    3434.714286\n84    3477.142857\n85    3899.714286\nName: window_size_7, Length: 84, dtype: float64"
     },
     "metadata": {},
     "execution_count": 25
    }
   ],
   "source": [
    "df_india_daily.window_size_7"
   ]
  },
  {
   "cell_type": "code",
   "execution_count": 2,
   "metadata": {},
   "outputs": [
    {
     "output_type": "stream",
     "name": "stdout",
     "text": "0.9263888888888889\n2020-06-11 19:52:07.368968\n"
    }
   ],
   "source": [
    "import pandas as pd\n",
    "df_timestamp=pd.read_csv('df_timestamp.csv')\n",
    "timestamp=pd.to_datetime(df_timestamp.loc[0].values[0])\n",
    "from datetime import datetime\n",
    "from datetime import timedelta\n",
    "print(((datetime.today()+ timedelta(seconds=19800))-timestamp).seconds/3600 + ((datetime.today()+ timedelta(seconds=19800))-timestamp).days*24)\n",
    "print(timestamp)\n"
   ]
  },
  {
   "cell_type": "code",
   "execution_count": 69,
   "metadata": {},
   "outputs": [
    {
     "output_type": "execute_result",
     "data": {
      "text/plain": "Timestamp('2020-06-12 11:28:00')"
     },
     "metadata": {},
     "execution_count": 69
    }
   ],
   "source": [
    "import pandas as pd\n",
    "df_timestamp=pd.read_csv('df_timestamp.csv')\n",
    "timestamp=pd.to_datetime(df_timestamp.loc[0].values[0])\n",
    "from datetime import datetime\n",
    "from datetime import timedelta\n",
    "timestamp"
   ]
  },
  {
   "cell_type": "code",
   "execution_count": 6,
   "metadata": {},
   "outputs": [
    {
     "output_type": "stream",
     "name": "stdout",
     "text": "34.48638888888889\n"
    }
   ],
   "source": []
  },
  {
   "cell_type": "code",
   "execution_count": null,
   "metadata": {},
   "outputs": [],
   "source": []
  }
 ],
 "metadata": {
  "language_info": {
   "codemirror_mode": {
    "name": "ipython",
    "version": 3
   },
   "file_extension": ".py",
   "mimetype": "text/x-python",
   "name": "python",
   "nbconvert_exporter": "python",
   "pygments_lexer": "ipython3",
   "version": "3.7.4-final"
  },
  "orig_nbformat": 2,
  "kernelspec": {
   "name": "python3",
   "display_name": "Python 3"
  }
 },
 "nbformat": 4,
 "nbformat_minor": 2
}