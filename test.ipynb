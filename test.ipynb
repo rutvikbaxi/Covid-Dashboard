{
 "cells": [
  {
   "cell_type": "code",
   "execution_count": 1,
   "metadata": {},
   "outputs": [],
   "source": [
    "import pandas as pd\n",
    "df_india=pd.read_csv('df_india.csv')\n",
    "df_statewise=pd.read_csv('df_statewise.csv')\n",
    "df_india_daily=pd.read_csv('df_india_daily.csv')\n",
    "df_daily_statewise=pd.read_csv('df_daily_statewise.csv')\n",
    "df_india_daily=df_india_daily[df_india_daily['active']>=0]\n",
    "import matplotlib.pyplot as plt\n"
   ]
  },
  {
   "cell_type": "code",
   "execution_count": 5,
   "metadata": {},
   "outputs": [
    {
     "output_type": "execute_result",
     "data": {
      "text/plain": "                 loc  total  deaths  discharged        date  active  perdeath  \\\n230   Andhra Pradesh      8       0           0  2020-03-24       8      0.00   \n231            Bihar      3       1           0  2020-03-24       2     33.33   \n232     Chhattisgarh      1       0           0  2020-03-24       1      0.00   \n233            Delhi     30       2           6  2020-03-24      22      6.67   \n234          Gujarat     33       1           0  2020-03-24      32      3.03   \n...              ...    ...     ...         ...         ...     ...       ...   \n2372       Telengana   2425      71        1381  2020-05-30     973      2.93   \n2373         Tripura    251       0         171  2020-05-30      80      0.00   \n2374     Uttarakhand    716       5         102  2020-05-30     609      0.70   \n2375   Uttar Pradesh   7284     198        4244  2020-05-30    2842      2.72   \n2376     West Bengal   4813     302        1775  2020-05-30    2736      6.27   \n\n      perdis  peractive  \n230     0.00     100.00  \n231     0.00      66.67  \n232     0.00     100.00  \n233    20.00      73.33  \n234     0.00      96.97  \n...      ...        ...  \n2372   56.95      40.12  \n2373   68.13      31.87  \n2374   14.25      85.06  \n2375   58.26      39.02  \n2376   36.88      56.85  \n\n[157 rows x 9 columns]",
      "text/html": "<div>\n<style scoped>\n    .dataframe tbody tr th:only-of-type {\n        vertical-align: middle;\n    }\n\n    .dataframe tbody tr th {\n        vertical-align: top;\n    }\n\n    .dataframe thead th {\n        text-align: right;\n    }\n</style>\n<table border=\"1\" class=\"dataframe\">\n  <thead>\n    <tr style=\"text-align: right;\">\n      <th></th>\n      <th>loc</th>\n      <th>total</th>\n      <th>deaths</th>\n      <th>discharged</th>\n      <th>date</th>\n      <th>active</th>\n      <th>perdeath</th>\n      <th>perdis</th>\n      <th>peractive</th>\n    </tr>\n  </thead>\n  <tbody>\n    <tr>\n      <td>230</td>\n      <td>Andhra Pradesh</td>\n      <td>8</td>\n      <td>0</td>\n      <td>0</td>\n      <td>2020-03-24</td>\n      <td>8</td>\n      <td>0.00</td>\n      <td>0.00</td>\n      <td>100.00</td>\n    </tr>\n    <tr>\n      <td>231</td>\n      <td>Bihar</td>\n      <td>3</td>\n      <td>1</td>\n      <td>0</td>\n      <td>2020-03-24</td>\n      <td>2</td>\n      <td>33.33</td>\n      <td>0.00</td>\n      <td>66.67</td>\n    </tr>\n    <tr>\n      <td>232</td>\n      <td>Chhattisgarh</td>\n      <td>1</td>\n      <td>0</td>\n      <td>0</td>\n      <td>2020-03-24</td>\n      <td>1</td>\n      <td>0.00</td>\n      <td>0.00</td>\n      <td>100.00</td>\n    </tr>\n    <tr>\n      <td>233</td>\n      <td>Delhi</td>\n      <td>30</td>\n      <td>2</td>\n      <td>6</td>\n      <td>2020-03-24</td>\n      <td>22</td>\n      <td>6.67</td>\n      <td>20.00</td>\n      <td>73.33</td>\n    </tr>\n    <tr>\n      <td>234</td>\n      <td>Gujarat</td>\n      <td>33</td>\n      <td>1</td>\n      <td>0</td>\n      <td>2020-03-24</td>\n      <td>32</td>\n      <td>3.03</td>\n      <td>0.00</td>\n      <td>96.97</td>\n    </tr>\n    <tr>\n      <td>...</td>\n      <td>...</td>\n      <td>...</td>\n      <td>...</td>\n      <td>...</td>\n      <td>...</td>\n      <td>...</td>\n      <td>...</td>\n      <td>...</td>\n      <td>...</td>\n    </tr>\n    <tr>\n      <td>2372</td>\n      <td>Telengana</td>\n      <td>2425</td>\n      <td>71</td>\n      <td>1381</td>\n      <td>2020-05-30</td>\n      <td>973</td>\n      <td>2.93</td>\n      <td>56.95</td>\n      <td>40.12</td>\n    </tr>\n    <tr>\n      <td>2373</td>\n      <td>Tripura</td>\n      <td>251</td>\n      <td>0</td>\n      <td>171</td>\n      <td>2020-05-30</td>\n      <td>80</td>\n      <td>0.00</td>\n      <td>68.13</td>\n      <td>31.87</td>\n    </tr>\n    <tr>\n      <td>2374</td>\n      <td>Uttarakhand</td>\n      <td>716</td>\n      <td>5</td>\n      <td>102</td>\n      <td>2020-05-30</td>\n      <td>609</td>\n      <td>0.70</td>\n      <td>14.25</td>\n      <td>85.06</td>\n    </tr>\n    <tr>\n      <td>2375</td>\n      <td>Uttar Pradesh</td>\n      <td>7284</td>\n      <td>198</td>\n      <td>4244</td>\n      <td>2020-05-30</td>\n      <td>2842</td>\n      <td>2.72</td>\n      <td>58.26</td>\n      <td>39.02</td>\n    </tr>\n    <tr>\n      <td>2376</td>\n      <td>West Bengal</td>\n      <td>4813</td>\n      <td>302</td>\n      <td>1775</td>\n      <td>2020-05-30</td>\n      <td>2736</td>\n      <td>6.27</td>\n      <td>36.88</td>\n      <td>56.85</td>\n    </tr>\n  </tbody>\n</table>\n<p>157 rows × 9 columns</p>\n</div>"
     },
     "metadata": {},
     "execution_count": 5
    }
   ],
   "source": [
    "date_list=['2020-03-24', '2020-04-14', '2020-05-01', '2020-05-17','2020-05-30',]\n",
    "df2=df[df['date'].isin(date_list)]"
   ]
  },
  {
   "cell_type": "code",
   "execution_count": 12,
   "metadata": {},
   "outputs": [],
   "source": [
    "df=df_india\n",
    "date_list=['2020-03-24', '2020-04-14', '2020-05-01', '2020-05-17','2020-05-30',df[-1:].date.values[0]]\n",
    "df2=df[df['date'].isin(date_list)]\n",
    "for i in range(0,4):\n",
    "    x=date_list[i]\n",
    "    df2.loc[df2['date']==x,'lockdown']='Lockdown {}'.format(i)\n",
    "df2.loc[df2['date']=='2020-05-30','lockdown']='Unlock {}'.format(1)\n",
    "df2.loc[df2['date']==df[-1:].date.values[0],'lockdown']='Present'"
   ]
  },
  {
   "cell_type": "code",
   "execution_count": 13,
   "metadata": {},
   "outputs": [
    {
     "output_type": "execute_result",
     "data": {
      "text/plain": "     total  deaths  discharged        date  active  perdeath  perdis  \\\n14     519      10          40  2020-03-24     469      1.93    7.71   \n35   10815     353        1190  2020-04-14    9272      3.26   11.00   \n52   35365    1152        9065  2020-05-01   25148      3.26   25.63   \n68   90927    2872       34109  2020-05-17   53946      3.16   37.51   \n81  173763    4971       82370  2020-05-30   86422      2.86   47.40   \n86  216919    6075      104107  2020-06-04  106737      2.80   47.99   \n\n    peractive    lockdown  \n14      90.37  Lockdown 0  \n35      85.73  Lockdown 1  \n52      71.11  Lockdown 2  \n68      59.33  Lockdown 3  \n81      49.74    Unlock 1  \n86      49.21         NaN  ",
      "text/html": "<div>\n<style scoped>\n    .dataframe tbody tr th:only-of-type {\n        vertical-align: middle;\n    }\n\n    .dataframe tbody tr th {\n        vertical-align: top;\n    }\n\n    .dataframe thead th {\n        text-align: right;\n    }\n</style>\n<table border=\"1\" class=\"dataframe\">\n  <thead>\n    <tr style=\"text-align: right;\">\n      <th></th>\n      <th>total</th>\n      <th>deaths</th>\n      <th>discharged</th>\n      <th>date</th>\n      <th>active</th>\n      <th>perdeath</th>\n      <th>perdis</th>\n      <th>peractive</th>\n      <th>lockdown</th>\n    </tr>\n  </thead>\n  <tbody>\n    <tr>\n      <td>14</td>\n      <td>519</td>\n      <td>10</td>\n      <td>40</td>\n      <td>2020-03-24</td>\n      <td>469</td>\n      <td>1.93</td>\n      <td>7.71</td>\n      <td>90.37</td>\n      <td>Lockdown 0</td>\n    </tr>\n    <tr>\n      <td>35</td>\n      <td>10815</td>\n      <td>353</td>\n      <td>1190</td>\n      <td>2020-04-14</td>\n      <td>9272</td>\n      <td>3.26</td>\n      <td>11.00</td>\n      <td>85.73</td>\n      <td>Lockdown 1</td>\n    </tr>\n    <tr>\n      <td>52</td>\n      <td>35365</td>\n      <td>1152</td>\n      <td>9065</td>\n      <td>2020-05-01</td>\n      <td>25148</td>\n      <td>3.26</td>\n      <td>25.63</td>\n      <td>71.11</td>\n      <td>Lockdown 2</td>\n    </tr>\n    <tr>\n      <td>68</td>\n      <td>90927</td>\n      <td>2872</td>\n      <td>34109</td>\n      <td>2020-05-17</td>\n      <td>53946</td>\n      <td>3.16</td>\n      <td>37.51</td>\n      <td>59.33</td>\n      <td>Lockdown 3</td>\n    </tr>\n    <tr>\n      <td>81</td>\n      <td>173763</td>\n      <td>4971</td>\n      <td>82370</td>\n      <td>2020-05-30</td>\n      <td>86422</td>\n      <td>2.86</td>\n      <td>47.40</td>\n      <td>49.74</td>\n      <td>Unlock 1</td>\n    </tr>\n    <tr>\n      <td>86</td>\n      <td>216919</td>\n      <td>6075</td>\n      <td>104107</td>\n      <td>2020-06-04</td>\n      <td>106737</td>\n      <td>2.80</td>\n      <td>47.99</td>\n      <td>49.21</td>\n      <td>NaN</td>\n    </tr>\n  </tbody>\n</table>\n</div>"
     },
     "metadata": {},
     "execution_count": 13
    }
   ],
   "source": [
    "df2"
   ]
  },
  {
   "cell_type": "code",
   "execution_count": 20,
   "metadata": {},
   "outputs": [
    {
     "output_type": "execute_result",
     "data": {
      "text/plain": "    active          loc\n0    39944  Maharashtra\n1    13497        Delhi\n2    11348   Tamil Nadu\n3     4766      Gujarat\n4     3583        other\n5     3324        other\n6     2772        other\n7     2699        other\n8     2496        other\n9     2288        other\n10    1842        other\n11    1816        other\n12    1546        other\n13    1365        other\n14    1255        other\n15     965        other\n16     832        other\n17     795        other\n18     478        other\n19     426        other\n20     300        other\n21     295        other\n22     204        other\n23      82        other\n24      80        other\n25      58        other\n26      57        other\n27      41        other\n28      37        other\n29      22        other\n30      19        other\n31      13        other\n32       7        other\n33       2        other\n34       0        other",
      "text/html": "<div>\n<style scoped>\n    .dataframe tbody tr th:only-of-type {\n        vertical-align: middle;\n    }\n\n    .dataframe tbody tr th {\n        vertical-align: top;\n    }\n\n    .dataframe thead th {\n        text-align: right;\n    }\n</style>\n<table border=\"1\" class=\"dataframe\">\n  <thead>\n    <tr style=\"text-align: right;\">\n      <th></th>\n      <th>active</th>\n      <th>loc</th>\n    </tr>\n  </thead>\n  <tbody>\n    <tr>\n      <td>0</td>\n      <td>39944</td>\n      <td>Maharashtra</td>\n    </tr>\n    <tr>\n      <td>1</td>\n      <td>13497</td>\n      <td>Delhi</td>\n    </tr>\n    <tr>\n      <td>2</td>\n      <td>11348</td>\n      <td>Tamil Nadu</td>\n    </tr>\n    <tr>\n      <td>3</td>\n      <td>4766</td>\n      <td>Gujarat</td>\n    </tr>\n    <tr>\n      <td>4</td>\n      <td>3583</td>\n      <td>other</td>\n    </tr>\n    <tr>\n      <td>5</td>\n      <td>3324</td>\n      <td>other</td>\n    </tr>\n    <tr>\n      <td>6</td>\n      <td>2772</td>\n      <td>other</td>\n    </tr>\n    <tr>\n      <td>7</td>\n      <td>2699</td>\n      <td>other</td>\n    </tr>\n    <tr>\n      <td>8</td>\n      <td>2496</td>\n      <td>other</td>\n    </tr>\n    <tr>\n      <td>9</td>\n      <td>2288</td>\n      <td>other</td>\n    </tr>\n    <tr>\n      <td>10</td>\n      <td>1842</td>\n      <td>other</td>\n    </tr>\n    <tr>\n      <td>11</td>\n      <td>1816</td>\n      <td>other</td>\n    </tr>\n    <tr>\n      <td>12</td>\n      <td>1546</td>\n      <td>other</td>\n    </tr>\n    <tr>\n      <td>13</td>\n      <td>1365</td>\n      <td>other</td>\n    </tr>\n    <tr>\n      <td>14</td>\n      <td>1255</td>\n      <td>other</td>\n    </tr>\n    <tr>\n      <td>15</td>\n      <td>965</td>\n      <td>other</td>\n    </tr>\n    <tr>\n      <td>16</td>\n      <td>832</td>\n      <td>other</td>\n    </tr>\n    <tr>\n      <td>17</td>\n      <td>795</td>\n      <td>other</td>\n    </tr>\n    <tr>\n      <td>18</td>\n      <td>478</td>\n      <td>other</td>\n    </tr>\n    <tr>\n      <td>19</td>\n      <td>426</td>\n      <td>other</td>\n    </tr>\n    <tr>\n      <td>20</td>\n      <td>300</td>\n      <td>other</td>\n    </tr>\n    <tr>\n      <td>21</td>\n      <td>295</td>\n      <td>other</td>\n    </tr>\n    <tr>\n      <td>22</td>\n      <td>204</td>\n      <td>other</td>\n    </tr>\n    <tr>\n      <td>23</td>\n      <td>82</td>\n      <td>other</td>\n    </tr>\n    <tr>\n      <td>24</td>\n      <td>80</td>\n      <td>other</td>\n    </tr>\n    <tr>\n      <td>25</td>\n      <td>58</td>\n      <td>other</td>\n    </tr>\n    <tr>\n      <td>26</td>\n      <td>57</td>\n      <td>other</td>\n    </tr>\n    <tr>\n      <td>27</td>\n      <td>41</td>\n      <td>other</td>\n    </tr>\n    <tr>\n      <td>28</td>\n      <td>37</td>\n      <td>other</td>\n    </tr>\n    <tr>\n      <td>29</td>\n      <td>22</td>\n      <td>other</td>\n    </tr>\n    <tr>\n      <td>30</td>\n      <td>19</td>\n      <td>other</td>\n    </tr>\n    <tr>\n      <td>31</td>\n      <td>13</td>\n      <td>other</td>\n    </tr>\n    <tr>\n      <td>32</td>\n      <td>7</td>\n      <td>other</td>\n    </tr>\n    <tr>\n      <td>33</td>\n      <td>2</td>\n      <td>other</td>\n    </tr>\n    <tr>\n      <td>34</td>\n      <td>0</td>\n      <td>other</td>\n    </tr>\n  </tbody>\n</table>\n</div>"
     },
     "metadata": {},
     "execution_count": 20
    }
   ],
   "source": [
    "import plotly.express as px\n",
    "df2=df_statewise[-35:].sort_values('active',ascending=False)[['active','loc']].reset_index(drop=True)\n",
    "df2.loc[4:,'loc']='Other states'\n",
    "fig = px.pie(df2, values='active', names='loc', title='Total cases distribution',)\n",
    "fig.show()"
   ]
  },
  {
   "cell_type": "code",
   "execution_count": 6,
   "metadata": {},
   "outputs": [],
   "source": [
    "import plotly.graph_objects as go\n",
    "from plotly.subplots import make_subplots\n"
   ]
  },
  {
   "cell_type": "code",
   "execution_count": 22,
   "metadata": {},
   "outputs": [],
   "source": []
  },
  {
   "cell_type": "code",
   "execution_count": 23,
   "metadata": {},
   "outputs": [
    {
     "output_type": "execute_result",
     "data": {
      "text/plain": "    total  deaths  discharged  active  perdeath  perdis  peractive  \\\n0      13       0           0    13.0      0.00    0.00       0.00   \n1      13       0           0    13.0      0.00    0.00       0.00   \n3       2       0           0     2.0     -0.06   -0.30       0.34   \n4      26       0           3    23.0     -0.56   -0.08       0.65   \n5       4       0           0     4.0     -0.07   -0.42       0.48   \n..    ...     ...         ...     ...       ...     ...        ...   \n81   8380     193        4614  3573.0     -0.02    0.36      -0.33   \n82   8392     230        4835  3327.0     -0.01    0.43      -0.43   \n83   8171     204        3708  4259.0     -0.01   -0.12       0.13   \n84   8909     217        4776  3916.0     -0.02    0.24      -0.22   \n85   9304     260        3804  5240.0      0.00   -0.32       0.32   \n\n          date  window_size_7  \n0   2020-03-11       0.000000  \n1   2020-03-12       0.000000  \n3   2020-03-14       0.000000  \n4   2020-03-15       0.000000  \n5   2020-03-16       0.000000  \n..         ...            ...  \n81  2020-05-31    3423.285714  \n82  2020-06-01    3332.428571  \n83  2020-06-02    3434.714286  \n84  2020-06-03    3477.142857  \n85  2020-06-04    3899.714286  \n\n[84 rows x 9 columns]",
      "text/html": "<div>\n<style scoped>\n    .dataframe tbody tr th:only-of-type {\n        vertical-align: middle;\n    }\n\n    .dataframe tbody tr th {\n        vertical-align: top;\n    }\n\n    .dataframe thead th {\n        text-align: right;\n    }\n</style>\n<table border=\"1\" class=\"dataframe\">\n  <thead>\n    <tr style=\"text-align: right;\">\n      <th></th>\n      <th>total</th>\n      <th>deaths</th>\n      <th>discharged</th>\n      <th>active</th>\n      <th>perdeath</th>\n      <th>perdis</th>\n      <th>peractive</th>\n      <th>date</th>\n      <th>window_size_7</th>\n    </tr>\n  </thead>\n  <tbody>\n    <tr>\n      <td>0</td>\n      <td>13</td>\n      <td>0</td>\n      <td>0</td>\n      <td>13.0</td>\n      <td>0.00</td>\n      <td>0.00</td>\n      <td>0.00</td>\n      <td>2020-03-11</td>\n      <td>0.000000</td>\n    </tr>\n    <tr>\n      <td>1</td>\n      <td>13</td>\n      <td>0</td>\n      <td>0</td>\n      <td>13.0</td>\n      <td>0.00</td>\n      <td>0.00</td>\n      <td>0.00</td>\n      <td>2020-03-12</td>\n      <td>0.000000</td>\n    </tr>\n    <tr>\n      <td>3</td>\n      <td>2</td>\n      <td>0</td>\n      <td>0</td>\n      <td>2.0</td>\n      <td>-0.06</td>\n      <td>-0.30</td>\n      <td>0.34</td>\n      <td>2020-03-14</td>\n      <td>0.000000</td>\n    </tr>\n    <tr>\n      <td>4</td>\n      <td>26</td>\n      <td>0</td>\n      <td>3</td>\n      <td>23.0</td>\n      <td>-0.56</td>\n      <td>-0.08</td>\n      <td>0.65</td>\n      <td>2020-03-15</td>\n      <td>0.000000</td>\n    </tr>\n    <tr>\n      <td>5</td>\n      <td>4</td>\n      <td>0</td>\n      <td>0</td>\n      <td>4.0</td>\n      <td>-0.07</td>\n      <td>-0.42</td>\n      <td>0.48</td>\n      <td>2020-03-16</td>\n      <td>0.000000</td>\n    </tr>\n    <tr>\n      <td>...</td>\n      <td>...</td>\n      <td>...</td>\n      <td>...</td>\n      <td>...</td>\n      <td>...</td>\n      <td>...</td>\n      <td>...</td>\n      <td>...</td>\n      <td>...</td>\n    </tr>\n    <tr>\n      <td>81</td>\n      <td>8380</td>\n      <td>193</td>\n      <td>4614</td>\n      <td>3573.0</td>\n      <td>-0.02</td>\n      <td>0.36</td>\n      <td>-0.33</td>\n      <td>2020-05-31</td>\n      <td>3423.285714</td>\n    </tr>\n    <tr>\n      <td>82</td>\n      <td>8392</td>\n      <td>230</td>\n      <td>4835</td>\n      <td>3327.0</td>\n      <td>-0.01</td>\n      <td>0.43</td>\n      <td>-0.43</td>\n      <td>2020-06-01</td>\n      <td>3332.428571</td>\n    </tr>\n    <tr>\n      <td>83</td>\n      <td>8171</td>\n      <td>204</td>\n      <td>3708</td>\n      <td>4259.0</td>\n      <td>-0.01</td>\n      <td>-0.12</td>\n      <td>0.13</td>\n      <td>2020-06-02</td>\n      <td>3434.714286</td>\n    </tr>\n    <tr>\n      <td>84</td>\n      <td>8909</td>\n      <td>217</td>\n      <td>4776</td>\n      <td>3916.0</td>\n      <td>-0.02</td>\n      <td>0.24</td>\n      <td>-0.22</td>\n      <td>2020-06-03</td>\n      <td>3477.142857</td>\n    </tr>\n    <tr>\n      <td>85</td>\n      <td>9304</td>\n      <td>260</td>\n      <td>3804</td>\n      <td>5240.0</td>\n      <td>0.00</td>\n      <td>-0.32</td>\n      <td>0.32</td>\n      <td>2020-06-04</td>\n      <td>3899.714286</td>\n    </tr>\n  </tbody>\n</table>\n<p>84 rows × 9 columns</p>\n</div>"
     },
     "metadata": {},
     "execution_count": 23
    }
   ],
   "source": []
  },
  {
   "cell_type": "code",
   "execution_count": 25,
   "metadata": {},
   "outputs": [
    {
     "output_type": "execute_result",
     "data": {
      "text/plain": "0        0.000000\n1        0.000000\n3        0.000000\n4        0.000000\n5        0.000000\n         ...     \n81    3423.285714\n82    3332.428571\n83    3434.714286\n84    3477.142857\n85    3899.714286\nName: window_size_7, Length: 84, dtype: float64"
     },
     "metadata": {},
     "execution_count": 25
    }
   ],
   "source": [
    "df_india_daily.window_size_7"
   ]
  },
  {
   "cell_type": "code",
   "execution_count": 21,
   "metadata": {},
   "outputs": [
    {
     "output_type": "display_data",
     "data": {
      "application/vnd.plotly.v1+json": {
       "config": {
        "plotlyServerURL": "https://plot.ly"
       },
       "data": [
        {
         "domain": {
          "x": [
           0,
           1
          ],
          "y": [
           0,
           1
          ]
         },
         "hovertemplate": "loc=%{label}<br>active=%{value}<extra></extra>",
         "labels": [
          "Maharashtra",
          "Delhi",
          "Tamil Nadu",
          "Gujarat",
          "other",
          "other",
          "other",
          "other",
          "other",
          "other",
          "other",
          "other",
          "other",
          "other",
          "other",
          "other",
          "other",
          "other",
          "other",
          "other",
          "other",
          "other",
          "other",
          "other",
          "other",
          "other",
          "other",
          "other",
          "other",
          "other",
          "other",
          "other",
          "other",
          "other",
          "other"
         ],
         "legendgroup": "",
         "name": "",
         "showlegend": true,
         "type": "pie",
         "values": [
          39944,
          13497,
          11348,
          4766,
          3583,
          3324,
          2772,
          2699,
          2496,
          2288,
          1842,
          1816,
          1546,
          1365,
          1255,
          965,
          832,
          795,
          478,
          426,
          300,
          295,
          204,
          82,
          80,
          58,
          57,
          41,
          37,
          22,
          19,
          13,
          7,
          2,
          0
         ]
        }
       ],
       "layout": {
        "legend": {
         "tracegroupgap": 0
        },
        "template": {
         "data": {
          "bar": [
           {
            "error_x": {
             "color": "#2a3f5f"
            },
            "error_y": {
             "color": "#2a3f5f"
            },
            "marker": {
             "line": {
              "color": "#E5ECF6",
              "width": 0.5
             }
            },
            "type": "bar"
           }
          ],
          "barpolar": [
           {
            "marker": {
             "line": {
              "color": "#E5ECF6",
              "width": 0.5
             }
            },
            "type": "barpolar"
           }
          ],
          "carpet": [
           {
            "aaxis": {
             "endlinecolor": "#2a3f5f",
             "gridcolor": "white",
             "linecolor": "white",
             "minorgridcolor": "white",
             "startlinecolor": "#2a3f5f"
            },
            "baxis": {
             "endlinecolor": "#2a3f5f",
             "gridcolor": "white",
             "linecolor": "white",
             "minorgridcolor": "white",
             "startlinecolor": "#2a3f5f"
            },
            "type": "carpet"
           }
          ],
          "choropleth": [
           {
            "colorbar": {
             "outlinewidth": 0,
             "ticks": ""
            },
            "type": "choropleth"
           }
          ],
          "contour": [
           {
            "colorbar": {
             "outlinewidth": 0,
             "ticks": ""
            },
            "colorscale": [
             [
              0,
              "#0d0887"
             ],
             [
              0.1111111111111111,
              "#46039f"
             ],
             [
              0.2222222222222222,
              "#7201a8"
             ],
             [
              0.3333333333333333,
              "#9c179e"
             ],
             [
              0.4444444444444444,
              "#bd3786"
             ],
             [
              0.5555555555555556,
              "#d8576b"
             ],
             [
              0.6666666666666666,
              "#ed7953"
             ],
             [
              0.7777777777777778,
              "#fb9f3a"
             ],
             [
              0.8888888888888888,
              "#fdca26"
             ],
             [
              1,
              "#f0f921"
             ]
            ],
            "type": "contour"
           }
          ],
          "contourcarpet": [
           {
            "colorbar": {
             "outlinewidth": 0,
             "ticks": ""
            },
            "type": "contourcarpet"
           }
          ],
          "heatmap": [
           {
            "colorbar": {
             "outlinewidth": 0,
             "ticks": ""
            },
            "colorscale": [
             [
              0,
              "#0d0887"
             ],
             [
              0.1111111111111111,
              "#46039f"
             ],
             [
              0.2222222222222222,
              "#7201a8"
             ],
             [
              0.3333333333333333,
              "#9c179e"
             ],
             [
              0.4444444444444444,
              "#bd3786"
             ],
             [
              0.5555555555555556,
              "#d8576b"
             ],
             [
              0.6666666666666666,
              "#ed7953"
             ],
             [
              0.7777777777777778,
              "#fb9f3a"
             ],
             [
              0.8888888888888888,
              "#fdca26"
             ],
             [
              1,
              "#f0f921"
             ]
            ],
            "type": "heatmap"
           }
          ],
          "heatmapgl": [
           {
            "colorbar": {
             "outlinewidth": 0,
             "ticks": ""
            },
            "colorscale": [
             [
              0,
              "#0d0887"
             ],
             [
              0.1111111111111111,
              "#46039f"
             ],
             [
              0.2222222222222222,
              "#7201a8"
             ],
             [
              0.3333333333333333,
              "#9c179e"
             ],
             [
              0.4444444444444444,
              "#bd3786"
             ],
             [
              0.5555555555555556,
              "#d8576b"
             ],
             [
              0.6666666666666666,
              "#ed7953"
             ],
             [
              0.7777777777777778,
              "#fb9f3a"
             ],
             [
              0.8888888888888888,
              "#fdca26"
             ],
             [
              1,
              "#f0f921"
             ]
            ],
            "type": "heatmapgl"
           }
          ],
          "histogram": [
           {
            "marker": {
             "colorbar": {
              "outlinewidth": 0,
              "ticks": ""
             }
            },
            "type": "histogram"
           }
          ],
          "histogram2d": [
           {
            "colorbar": {
             "outlinewidth": 0,
             "ticks": ""
            },
            "colorscale": [
             [
              0,
              "#0d0887"
             ],
             [
              0.1111111111111111,
              "#46039f"
             ],
             [
              0.2222222222222222,
              "#7201a8"
             ],
             [
              0.3333333333333333,
              "#9c179e"
             ],
             [
              0.4444444444444444,
              "#bd3786"
             ],
             [
              0.5555555555555556,
              "#d8576b"
             ],
             [
              0.6666666666666666,
              "#ed7953"
             ],
             [
              0.7777777777777778,
              "#fb9f3a"
             ],
             [
              0.8888888888888888,
              "#fdca26"
             ],
             [
              1,
              "#f0f921"
             ]
            ],
            "type": "histogram2d"
           }
          ],
          "histogram2dcontour": [
           {
            "colorbar": {
             "outlinewidth": 0,
             "ticks": ""
            },
            "colorscale": [
             [
              0,
              "#0d0887"
             ],
             [
              0.1111111111111111,
              "#46039f"
             ],
             [
              0.2222222222222222,
              "#7201a8"
             ],
             [
              0.3333333333333333,
              "#9c179e"
             ],
             [
              0.4444444444444444,
              "#bd3786"
             ],
             [
              0.5555555555555556,
              "#d8576b"
             ],
             [
              0.6666666666666666,
              "#ed7953"
             ],
             [
              0.7777777777777778,
              "#fb9f3a"
             ],
             [
              0.8888888888888888,
              "#fdca26"
             ],
             [
              1,
              "#f0f921"
             ]
            ],
            "type": "histogram2dcontour"
           }
          ],
          "mesh3d": [
           {
            "colorbar": {
             "outlinewidth": 0,
             "ticks": ""
            },
            "type": "mesh3d"
           }
          ],
          "parcoords": [
           {
            "line": {
             "colorbar": {
              "outlinewidth": 0,
              "ticks": ""
             }
            },
            "type": "parcoords"
           }
          ],
          "pie": [
           {
            "automargin": true,
            "type": "pie"
           }
          ],
          "scatter": [
           {
            "marker": {
             "colorbar": {
              "outlinewidth": 0,
              "ticks": ""
             }
            },
            "type": "scatter"
           }
          ],
          "scatter3d": [
           {
            "line": {
             "colorbar": {
              "outlinewidth": 0,
              "ticks": ""
             }
            },
            "marker": {
             "colorbar": {
              "outlinewidth": 0,
              "ticks": ""
             }
            },
            "type": "scatter3d"
           }
          ],
          "scattercarpet": [
           {
            "marker": {
             "colorbar": {
              "outlinewidth": 0,
              "ticks": ""
             }
            },
            "type": "scattercarpet"
           }
          ],
          "scattergeo": [
           {
            "marker": {
             "colorbar": {
              "outlinewidth": 0,
              "ticks": ""
             }
            },
            "type": "scattergeo"
           }
          ],
          "scattergl": [
           {
            "marker": {
             "colorbar": {
              "outlinewidth": 0,
              "ticks": ""
             }
            },
            "type": "scattergl"
           }
          ],
          "scattermapbox": [
           {
            "marker": {
             "colorbar": {
              "outlinewidth": 0,
              "ticks": ""
             }
            },
            "type": "scattermapbox"
           }
          ],
          "scatterpolar": [
           {
            "marker": {
             "colorbar": {
              "outlinewidth": 0,
              "ticks": ""
             }
            },
            "type": "scatterpolar"
           }
          ],
          "scatterpolargl": [
           {
            "marker": {
             "colorbar": {
              "outlinewidth": 0,
              "ticks": ""
             }
            },
            "type": "scatterpolargl"
           }
          ],
          "scatterternary": [
           {
            "marker": {
             "colorbar": {
              "outlinewidth": 0,
              "ticks": ""
             }
            },
            "type": "scatterternary"
           }
          ],
          "surface": [
           {
            "colorbar": {
             "outlinewidth": 0,
             "ticks": ""
            },
            "colorscale": [
             [
              0,
              "#0d0887"
             ],
             [
              0.1111111111111111,
              "#46039f"
             ],
             [
              0.2222222222222222,
              "#7201a8"
             ],
             [
              0.3333333333333333,
              "#9c179e"
             ],
             [
              0.4444444444444444,
              "#bd3786"
             ],
             [
              0.5555555555555556,
              "#d8576b"
             ],
             [
              0.6666666666666666,
              "#ed7953"
             ],
             [
              0.7777777777777778,
              "#fb9f3a"
             ],
             [
              0.8888888888888888,
              "#fdca26"
             ],
             [
              1,
              "#f0f921"
             ]
            ],
            "type": "surface"
           }
          ],
          "table": [
           {
            "cells": {
             "fill": {
              "color": "#EBF0F8"
             },
             "line": {
              "color": "white"
             }
            },
            "header": {
             "fill": {
              "color": "#C8D4E3"
             },
             "line": {
              "color": "white"
             }
            },
            "type": "table"
           }
          ]
         },
         "layout": {
          "annotationdefaults": {
           "arrowcolor": "#2a3f5f",
           "arrowhead": 0,
           "arrowwidth": 1
          },
          "coloraxis": {
           "colorbar": {
            "outlinewidth": 0,
            "ticks": ""
           }
          },
          "colorscale": {
           "diverging": [
            [
             0,
             "#8e0152"
            ],
            [
             0.1,
             "#c51b7d"
            ],
            [
             0.2,
             "#de77ae"
            ],
            [
             0.3,
             "#f1b6da"
            ],
            [
             0.4,
             "#fde0ef"
            ],
            [
             0.5,
             "#f7f7f7"
            ],
            [
             0.6,
             "#e6f5d0"
            ],
            [
             0.7,
             "#b8e186"
            ],
            [
             0.8,
             "#7fbc41"
            ],
            [
             0.9,
             "#4d9221"
            ],
            [
             1,
             "#276419"
            ]
           ],
           "sequential": [
            [
             0,
             "#0d0887"
            ],
            [
             0.1111111111111111,
             "#46039f"
            ],
            [
             0.2222222222222222,
             "#7201a8"
            ],
            [
             0.3333333333333333,
             "#9c179e"
            ],
            [
             0.4444444444444444,
             "#bd3786"
            ],
            [
             0.5555555555555556,
             "#d8576b"
            ],
            [
             0.6666666666666666,
             "#ed7953"
            ],
            [
             0.7777777777777778,
             "#fb9f3a"
            ],
            [
             0.8888888888888888,
             "#fdca26"
            ],
            [
             1,
             "#f0f921"
            ]
           ],
           "sequentialminus": [
            [
             0,
             "#0d0887"
            ],
            [
             0.1111111111111111,
             "#46039f"
            ],
            [
             0.2222222222222222,
             "#7201a8"
            ],
            [
             0.3333333333333333,
             "#9c179e"
            ],
            [
             0.4444444444444444,
             "#bd3786"
            ],
            [
             0.5555555555555556,
             "#d8576b"
            ],
            [
             0.6666666666666666,
             "#ed7953"
            ],
            [
             0.7777777777777778,
             "#fb9f3a"
            ],
            [
             0.8888888888888888,
             "#fdca26"
            ],
            [
             1,
             "#f0f921"
            ]
           ]
          },
          "colorway": [
           "#636efa",
           "#EF553B",
           "#00cc96",
           "#ab63fa",
           "#FFA15A",
           "#19d3f3",
           "#FF6692",
           "#B6E880",
           "#FF97FF",
           "#FECB52"
          ],
          "font": {
           "color": "#2a3f5f"
          },
          "geo": {
           "bgcolor": "white",
           "lakecolor": "white",
           "landcolor": "#E5ECF6",
           "showlakes": true,
           "showland": true,
           "subunitcolor": "white"
          },
          "hoverlabel": {
           "align": "left"
          },
          "hovermode": "closest",
          "mapbox": {
           "style": "light"
          },
          "paper_bgcolor": "white",
          "plot_bgcolor": "#E5ECF6",
          "polar": {
           "angularaxis": {
            "gridcolor": "white",
            "linecolor": "white",
            "ticks": ""
           },
           "bgcolor": "#E5ECF6",
           "radialaxis": {
            "gridcolor": "white",
            "linecolor": "white",
            "ticks": ""
           }
          },
          "scene": {
           "xaxis": {
            "backgroundcolor": "#E5ECF6",
            "gridcolor": "white",
            "gridwidth": 2,
            "linecolor": "white",
            "showbackground": true,
            "ticks": "",
            "zerolinecolor": "white"
           },
           "yaxis": {
            "backgroundcolor": "#E5ECF6",
            "gridcolor": "white",
            "gridwidth": 2,
            "linecolor": "white",
            "showbackground": true,
            "ticks": "",
            "zerolinecolor": "white"
           },
           "zaxis": {
            "backgroundcolor": "#E5ECF6",
            "gridcolor": "white",
            "gridwidth": 2,
            "linecolor": "white",
            "showbackground": true,
            "ticks": "",
            "zerolinecolor": "white"
           }
          },
          "shapedefaults": {
           "line": {
            "color": "#2a3f5f"
           }
          },
          "ternary": {
           "aaxis": {
            "gridcolor": "white",
            "linecolor": "white",
            "ticks": ""
           },
           "baxis": {
            "gridcolor": "white",
            "linecolor": "white",
            "ticks": ""
           },
           "bgcolor": "#E5ECF6",
           "caxis": {
            "gridcolor": "white",
            "linecolor": "white",
            "ticks": ""
           }
          },
          "title": {
           "x": 0.05
          },
          "xaxis": {
           "automargin": true,
           "gridcolor": "white",
           "linecolor": "white",
           "ticks": "",
           "title": {
            "standoff": 15
           },
           "zerolinecolor": "white",
           "zerolinewidth": 2
          },
          "yaxis": {
           "automargin": true,
           "gridcolor": "white",
           "linecolor": "white",
           "ticks": "",
           "title": {
            "standoff": 15
           },
           "zerolinecolor": "white",
           "zerolinewidth": 2
          }
         }
        },
        "title": {
         "text": "Total cases distribution"
        }
       }
      }
     },
     "metadata": {}
    }
   ],
   "source": [
    "import plotly.express as px\n",
    "#df=df_statewise[-35:].sort_values('active',ascending=False)\n",
    "#df\n",
    "#df.loc[df['pop'] < 2.e6, 'country'] = 'Other countries' # Represent only large countries\n",
    "fig = px.pie(df2, values='active', names='loc', title='Total cases distribution')\n",
    "fig.show()"
   ]
  },
  {
   "cell_type": "code",
   "execution_count": null,
   "metadata": {},
   "outputs": [],
   "source": []
  }
 ],
 "metadata": {
  "language_info": {
   "codemirror_mode": {
    "name": "ipython",
    "version": 3
   },
   "file_extension": ".py",
   "mimetype": "text/x-python",
   "name": "python",
   "nbconvert_exporter": "python",
   "pygments_lexer": "ipython3",
   "version": "3.7.4-final"
  },
  "orig_nbformat": 2,
  "kernelspec": {
   "name": "python3",
   "display_name": "Python 3"
  }
 },
 "nbformat": 4,
 "nbformat_minor": 2
}