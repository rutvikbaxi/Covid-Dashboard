{
 "cells": [
  {
   "cell_type": "code",
   "execution_count": 41,
   "metadata": {},
   "outputs": [],
   "source": [
    "import pandas as pd\n",
    "df_india=pd.read_csv('df_india.csv')\n",
    "df_statewise=pd.read_csv('df_statewise.csv')\n",
    "#df_india_daily=pd.read_csv('df_india_daily.csv')\n",
    "#df_daily_statewise=pd.read_csv('df_daily_statewise.csv')\n",
    "#df_india_daily=df_india_daily[df_india_daily['active']>=0]\n",
    "#import matplotlib.pyplot as plt\n"
   ]
  },
  {
   "cell_type": "code",
   "execution_count": 5,
   "metadata": {},
   "outputs": [
    {
     "output_type": "execute_result",
     "data": {
      "text/plain": "                 loc  total  deaths  discharged        date  active  perdeath  \\\n230   Andhra Pradesh      8       0           0  2020-03-24       8      0.00   \n231            Bihar      3       1           0  2020-03-24       2     33.33   \n232     Chhattisgarh      1       0           0  2020-03-24       1      0.00   \n233            Delhi     30       2           6  2020-03-24      22      6.67   \n234          Gujarat     33       1           0  2020-03-24      32      3.03   \n...              ...    ...     ...         ...         ...     ...       ...   \n2372       Telengana   2425      71        1381  2020-05-30     973      2.93   \n2373         Tripura    251       0         171  2020-05-30      80      0.00   \n2374     Uttarakhand    716       5         102  2020-05-30     609      0.70   \n2375   Uttar Pradesh   7284     198        4244  2020-05-30    2842      2.72   \n2376     West Bengal   4813     302        1775  2020-05-30    2736      6.27   \n\n      perdis  peractive  \n230     0.00     100.00  \n231     0.00      66.67  \n232     0.00     100.00  \n233    20.00      73.33  \n234     0.00      96.97  \n...      ...        ...  \n2372   56.95      40.12  \n2373   68.13      31.87  \n2374   14.25      85.06  \n2375   58.26      39.02  \n2376   36.88      56.85  \n\n[157 rows x 9 columns]",
      "text/html": "<div>\n<style scoped>\n    .dataframe tbody tr th:only-of-type {\n        vertical-align: middle;\n    }\n\n    .dataframe tbody tr th {\n        vertical-align: top;\n    }\n\n    .dataframe thead th {\n        text-align: right;\n    }\n</style>\n<table border=\"1\" class=\"dataframe\">\n  <thead>\n    <tr style=\"text-align: right;\">\n      <th></th>\n      <th>loc</th>\n      <th>total</th>\n      <th>deaths</th>\n      <th>discharged</th>\n      <th>date</th>\n      <th>active</th>\n      <th>perdeath</th>\n      <th>perdis</th>\n      <th>peractive</th>\n    </tr>\n  </thead>\n  <tbody>\n    <tr>\n      <td>230</td>\n      <td>Andhra Pradesh</td>\n      <td>8</td>\n      <td>0</td>\n      <td>0</td>\n      <td>2020-03-24</td>\n      <td>8</td>\n      <td>0.00</td>\n      <td>0.00</td>\n      <td>100.00</td>\n    </tr>\n    <tr>\n      <td>231</td>\n      <td>Bihar</td>\n      <td>3</td>\n      <td>1</td>\n      <td>0</td>\n      <td>2020-03-24</td>\n      <td>2</td>\n      <td>33.33</td>\n      <td>0.00</td>\n      <td>66.67</td>\n    </tr>\n    <tr>\n      <td>232</td>\n      <td>Chhattisgarh</td>\n      <td>1</td>\n      <td>0</td>\n      <td>0</td>\n      <td>2020-03-24</td>\n      <td>1</td>\n      <td>0.00</td>\n      <td>0.00</td>\n      <td>100.00</td>\n    </tr>\n    <tr>\n      <td>233</td>\n      <td>Delhi</td>\n      <td>30</td>\n      <td>2</td>\n      <td>6</td>\n      <td>2020-03-24</td>\n      <td>22</td>\n      <td>6.67</td>\n      <td>20.00</td>\n      <td>73.33</td>\n    </tr>\n    <tr>\n      <td>234</td>\n      <td>Gujarat</td>\n      <td>33</td>\n      <td>1</td>\n      <td>0</td>\n      <td>2020-03-24</td>\n      <td>32</td>\n      <td>3.03</td>\n      <td>0.00</td>\n      <td>96.97</td>\n    </tr>\n    <tr>\n      <td>...</td>\n      <td>...</td>\n      <td>...</td>\n      <td>...</td>\n      <td>...</td>\n      <td>...</td>\n      <td>...</td>\n      <td>...</td>\n      <td>...</td>\n      <td>...</td>\n    </tr>\n    <tr>\n      <td>2372</td>\n      <td>Telengana</td>\n      <td>2425</td>\n      <td>71</td>\n      <td>1381</td>\n      <td>2020-05-30</td>\n      <td>973</td>\n      <td>2.93</td>\n      <td>56.95</td>\n      <td>40.12</td>\n    </tr>\n    <tr>\n      <td>2373</td>\n      <td>Tripura</td>\n      <td>251</td>\n      <td>0</td>\n      <td>171</td>\n      <td>2020-05-30</td>\n      <td>80</td>\n      <td>0.00</td>\n      <td>68.13</td>\n      <td>31.87</td>\n    </tr>\n    <tr>\n      <td>2374</td>\n      <td>Uttarakhand</td>\n      <td>716</td>\n      <td>5</td>\n      <td>102</td>\n      <td>2020-05-30</td>\n      <td>609</td>\n      <td>0.70</td>\n      <td>14.25</td>\n      <td>85.06</td>\n    </tr>\n    <tr>\n      <td>2375</td>\n      <td>Uttar Pradesh</td>\n      <td>7284</td>\n      <td>198</td>\n      <td>4244</td>\n      <td>2020-05-30</td>\n      <td>2842</td>\n      <td>2.72</td>\n      <td>58.26</td>\n      <td>39.02</td>\n    </tr>\n    <tr>\n      <td>2376</td>\n      <td>West Bengal</td>\n      <td>4813</td>\n      <td>302</td>\n      <td>1775</td>\n      <td>2020-05-30</td>\n      <td>2736</td>\n      <td>6.27</td>\n      <td>36.88</td>\n      <td>56.85</td>\n    </tr>\n  </tbody>\n</table>\n<p>157 rows × 9 columns</p>\n</div>"
     },
     "metadata": {},
     "execution_count": 5
    }
   ],
   "source": [
    "date_list=['2020-03-24', '2020-04-14', '2020-05-01', '2020-05-17','2020-05-30',]\n",
    "df2=df[df['date'].isin(date_list)]"
   ]
  },
  {
   "cell_type": "code",
   "execution_count": 12,
   "metadata": {},
   "outputs": [],
   "source": [
    "df=df_india\n",
    "date_list=['2020-03-24', '2020-04-14', '2020-05-01', '2020-05-17','2020-05-30',df[-1:].date.values[0]]\n",
    "df2=df[df['date'].isin(date_list)]\n",
    "for i in range(0,4):\n",
    "    x=date_list[i]\n",
    "    df2.loc[df2['date']==x,'lockdown']='Lockdown {}'.format(i)\n",
    "df2.loc[df2['date']=='2020-05-30','lockdown']='Unlock {}'.format(1)\n",
    "df2.loc[df2['date']==df[-1:].date.values[0],'lockdown']='Present'"
   ]
  },
  {
   "cell_type": "code",
   "execution_count": 4,
   "metadata": {},
   "outputs": [
    {
     "output_type": "execute_result",
     "data": {
      "text/plain": "                     loc  total  deaths  discharged        date  active  \\\n2763      Andhra Pradesh   5269      78        2899  2020-06-11    2292   \n2764   Arunachal Pradesh     57       0           2  2020-06-11      55   \n2765               Assam   3092       4        1249  2020-06-11    1839   \n2766               Bihar   5710      33        3071  2020-06-11    2606   \n2767          Chandigarh    327       5         286  2020-06-11      36   \n2768        Chhattisgarh   1262       6         402  2020-06-11     854   \n2769  Dadar Nagar Haveli     26       0           2  2020-06-11      24   \n2770         Daman & Diu      2       0           0  2020-06-11       2   \n2771               Delhi  32810     984       12245  2020-06-11   19581   \n2772                 Goa    387       0          67  2020-06-11     320   \n2773             Gujarat  21521    1347       14735  2020-06-11    5439   \n2774             Haryana   5579      52        2188  2020-06-11    3339   \n2775    Himachal Pradesh    451       6         254  2020-06-11     191   \n2776   Jammu and Kashmir   4507      51        1671  2020-06-11    2785   \n2777           Jharkhand   1489       8         592  2020-06-11     889   \n2778           Karnataka   6041      69        2862  2020-06-11    3110   \n2779              Kerala   2161      18         905  2020-06-11    1238   \n2780              Ladakh    115       1          52  2020-06-11      62   \n2781      Madhya Pradesh  10049     427        6892  2020-06-11    2730   \n2782         Maharashtra  94041    3438       44517  2020-06-11   46086   \n2783             Manipur    311       0          63  2020-06-11     248   \n2784           Meghalaya     44       1          13  2020-06-11      30   \n2785             Mizoram     93       0           1  2020-06-11      92   \n2786            Nagaland    128       0          22  2020-06-11     106   \n2787              Odisha   3250       9        2282  2020-06-11     959   \n2788          Puducherry    127       0          53  2020-06-11      74   \n2789              Punjab   2805      55        2232  2020-06-11     518   \n2790           Rajasthan  11600     259        8569  2020-06-11    2772   \n2791              Sikkim     13       0           0  2020-06-11      13   \n2792          Tamil Nadu  36841     326       19333  2020-06-11   17182   \n2793           Telengana   4111     156        1817  2020-06-11    2138   \n2794             Tripura    895       1         239  2020-06-11     655   \n2795         Uttarakhand   1562      15         831  2020-06-11     716   \n2796       Uttar Pradesh  11610     321        6871  2020-06-11    4418   \n2797         West Bengal   9328     432        3779  2020-06-11    5117   \n\n      perdeath  perdis  peractive  days  \n2763      1.48   55.02      43.50    93  \n2764      0.00    3.51      96.49    93  \n2765      0.13   40.39      59.48    93  \n2766      0.58   53.78      45.64    93  \n2767      1.53   87.46      11.01    93  \n2768      0.48   31.85      67.67    93  \n2769      0.00    7.69      92.31    93  \n2770      0.00    0.00     100.00    93  \n2771      3.00   37.32      59.68    93  \n2772      0.00   17.31      82.69    93  \n2773      6.26   68.47      25.27    93  \n2774      0.93   39.22      59.85    93  \n2775      1.33   56.32      42.35    93  \n2776      1.13   37.08      61.79    93  \n2777      0.54   39.76      59.70    93  \n2778      1.14   47.38      51.48    93  \n2779      0.83   41.88      57.29    93  \n2780      0.87   45.22      53.91    93  \n2781      4.25   68.58      27.17    93  \n2782      3.66   47.34      49.01    93  \n2783      0.00   20.26      79.74    93  \n2784      2.27   29.55      68.18    93  \n2785      0.00    1.08      98.92    93  \n2786      0.00   17.19      82.81    93  \n2787      0.28   70.22      29.51    93  \n2788      0.00   41.73      58.27    93  \n2789      1.96   79.57      18.47    93  \n2790      2.23   73.87      23.90    93  \n2791      0.00    0.00     100.00    93  \n2792      0.88   52.48      46.64    93  \n2793      3.79   44.20      52.01    93  \n2794      0.11   26.70      73.18    93  \n2795      0.96   53.20      45.84    93  \n2796      2.76   59.18      38.05    93  \n2797      4.63   40.51      54.86    93  ",
      "text/html": "<div>\n<style scoped>\n    .dataframe tbody tr th:only-of-type {\n        vertical-align: middle;\n    }\n\n    .dataframe tbody tr th {\n        vertical-align: top;\n    }\n\n    .dataframe thead th {\n        text-align: right;\n    }\n</style>\n<table border=\"1\" class=\"dataframe\">\n  <thead>\n    <tr style=\"text-align: right;\">\n      <th></th>\n      <th>loc</th>\n      <th>total</th>\n      <th>deaths</th>\n      <th>discharged</th>\n      <th>date</th>\n      <th>active</th>\n      <th>perdeath</th>\n      <th>perdis</th>\n      <th>peractive</th>\n      <th>days</th>\n    </tr>\n  </thead>\n  <tbody>\n    <tr>\n      <td>2763</td>\n      <td>Andhra Pradesh</td>\n      <td>5269</td>\n      <td>78</td>\n      <td>2899</td>\n      <td>2020-06-11</td>\n      <td>2292</td>\n      <td>1.48</td>\n      <td>55.02</td>\n      <td>43.50</td>\n      <td>93</td>\n    </tr>\n    <tr>\n      <td>2764</td>\n      <td>Arunachal Pradesh</td>\n      <td>57</td>\n      <td>0</td>\n      <td>2</td>\n      <td>2020-06-11</td>\n      <td>55</td>\n      <td>0.00</td>\n      <td>3.51</td>\n      <td>96.49</td>\n      <td>93</td>\n    </tr>\n    <tr>\n      <td>2765</td>\n      <td>Assam</td>\n      <td>3092</td>\n      <td>4</td>\n      <td>1249</td>\n      <td>2020-06-11</td>\n      <td>1839</td>\n      <td>0.13</td>\n      <td>40.39</td>\n      <td>59.48</td>\n      <td>93</td>\n    </tr>\n    <tr>\n      <td>2766</td>\n      <td>Bihar</td>\n      <td>5710</td>\n      <td>33</td>\n      <td>3071</td>\n      <td>2020-06-11</td>\n      <td>2606</td>\n      <td>0.58</td>\n      <td>53.78</td>\n      <td>45.64</td>\n      <td>93</td>\n    </tr>\n    <tr>\n      <td>2767</td>\n      <td>Chandigarh</td>\n      <td>327</td>\n      <td>5</td>\n      <td>286</td>\n      <td>2020-06-11</td>\n      <td>36</td>\n      <td>1.53</td>\n      <td>87.46</td>\n      <td>11.01</td>\n      <td>93</td>\n    </tr>\n    <tr>\n      <td>2768</td>\n      <td>Chhattisgarh</td>\n      <td>1262</td>\n      <td>6</td>\n      <td>402</td>\n      <td>2020-06-11</td>\n      <td>854</td>\n      <td>0.48</td>\n      <td>31.85</td>\n      <td>67.67</td>\n      <td>93</td>\n    </tr>\n    <tr>\n      <td>2769</td>\n      <td>Dadar Nagar Haveli</td>\n      <td>26</td>\n      <td>0</td>\n      <td>2</td>\n      <td>2020-06-11</td>\n      <td>24</td>\n      <td>0.00</td>\n      <td>7.69</td>\n      <td>92.31</td>\n      <td>93</td>\n    </tr>\n    <tr>\n      <td>2770</td>\n      <td>Daman &amp; Diu</td>\n      <td>2</td>\n      <td>0</td>\n      <td>0</td>\n      <td>2020-06-11</td>\n      <td>2</td>\n      <td>0.00</td>\n      <td>0.00</td>\n      <td>100.00</td>\n      <td>93</td>\n    </tr>\n    <tr>\n      <td>2771</td>\n      <td>Delhi</td>\n      <td>32810</td>\n      <td>984</td>\n      <td>12245</td>\n      <td>2020-06-11</td>\n      <td>19581</td>\n      <td>3.00</td>\n      <td>37.32</td>\n      <td>59.68</td>\n      <td>93</td>\n    </tr>\n    <tr>\n      <td>2772</td>\n      <td>Goa</td>\n      <td>387</td>\n      <td>0</td>\n      <td>67</td>\n      <td>2020-06-11</td>\n      <td>320</td>\n      <td>0.00</td>\n      <td>17.31</td>\n      <td>82.69</td>\n      <td>93</td>\n    </tr>\n    <tr>\n      <td>2773</td>\n      <td>Gujarat</td>\n      <td>21521</td>\n      <td>1347</td>\n      <td>14735</td>\n      <td>2020-06-11</td>\n      <td>5439</td>\n      <td>6.26</td>\n      <td>68.47</td>\n      <td>25.27</td>\n      <td>93</td>\n    </tr>\n    <tr>\n      <td>2774</td>\n      <td>Haryana</td>\n      <td>5579</td>\n      <td>52</td>\n      <td>2188</td>\n      <td>2020-06-11</td>\n      <td>3339</td>\n      <td>0.93</td>\n      <td>39.22</td>\n      <td>59.85</td>\n      <td>93</td>\n    </tr>\n    <tr>\n      <td>2775</td>\n      <td>Himachal Pradesh</td>\n      <td>451</td>\n      <td>6</td>\n      <td>254</td>\n      <td>2020-06-11</td>\n      <td>191</td>\n      <td>1.33</td>\n      <td>56.32</td>\n      <td>42.35</td>\n      <td>93</td>\n    </tr>\n    <tr>\n      <td>2776</td>\n      <td>Jammu and Kashmir</td>\n      <td>4507</td>\n      <td>51</td>\n      <td>1671</td>\n      <td>2020-06-11</td>\n      <td>2785</td>\n      <td>1.13</td>\n      <td>37.08</td>\n      <td>61.79</td>\n      <td>93</td>\n    </tr>\n    <tr>\n      <td>2777</td>\n      <td>Jharkhand</td>\n      <td>1489</td>\n      <td>8</td>\n      <td>592</td>\n      <td>2020-06-11</td>\n      <td>889</td>\n      <td>0.54</td>\n      <td>39.76</td>\n      <td>59.70</td>\n      <td>93</td>\n    </tr>\n    <tr>\n      <td>2778</td>\n      <td>Karnataka</td>\n      <td>6041</td>\n      <td>69</td>\n      <td>2862</td>\n      <td>2020-06-11</td>\n      <td>3110</td>\n      <td>1.14</td>\n      <td>47.38</td>\n      <td>51.48</td>\n      <td>93</td>\n    </tr>\n    <tr>\n      <td>2779</td>\n      <td>Kerala</td>\n      <td>2161</td>\n      <td>18</td>\n      <td>905</td>\n      <td>2020-06-11</td>\n      <td>1238</td>\n      <td>0.83</td>\n      <td>41.88</td>\n      <td>57.29</td>\n      <td>93</td>\n    </tr>\n    <tr>\n      <td>2780</td>\n      <td>Ladakh</td>\n      <td>115</td>\n      <td>1</td>\n      <td>52</td>\n      <td>2020-06-11</td>\n      <td>62</td>\n      <td>0.87</td>\n      <td>45.22</td>\n      <td>53.91</td>\n      <td>93</td>\n    </tr>\n    <tr>\n      <td>2781</td>\n      <td>Madhya Pradesh</td>\n      <td>10049</td>\n      <td>427</td>\n      <td>6892</td>\n      <td>2020-06-11</td>\n      <td>2730</td>\n      <td>4.25</td>\n      <td>68.58</td>\n      <td>27.17</td>\n      <td>93</td>\n    </tr>\n    <tr>\n      <td>2782</td>\n      <td>Maharashtra</td>\n      <td>94041</td>\n      <td>3438</td>\n      <td>44517</td>\n      <td>2020-06-11</td>\n      <td>46086</td>\n      <td>3.66</td>\n      <td>47.34</td>\n      <td>49.01</td>\n      <td>93</td>\n    </tr>\n    <tr>\n      <td>2783</td>\n      <td>Manipur</td>\n      <td>311</td>\n      <td>0</td>\n      <td>63</td>\n      <td>2020-06-11</td>\n      <td>248</td>\n      <td>0.00</td>\n      <td>20.26</td>\n      <td>79.74</td>\n      <td>93</td>\n    </tr>\n    <tr>\n      <td>2784</td>\n      <td>Meghalaya</td>\n      <td>44</td>\n      <td>1</td>\n      <td>13</td>\n      <td>2020-06-11</td>\n      <td>30</td>\n      <td>2.27</td>\n      <td>29.55</td>\n      <td>68.18</td>\n      <td>93</td>\n    </tr>\n    <tr>\n      <td>2785</td>\n      <td>Mizoram</td>\n      <td>93</td>\n      <td>0</td>\n      <td>1</td>\n      <td>2020-06-11</td>\n      <td>92</td>\n      <td>0.00</td>\n      <td>1.08</td>\n      <td>98.92</td>\n      <td>93</td>\n    </tr>\n    <tr>\n      <td>2786</td>\n      <td>Nagaland</td>\n      <td>128</td>\n      <td>0</td>\n      <td>22</td>\n      <td>2020-06-11</td>\n      <td>106</td>\n      <td>0.00</td>\n      <td>17.19</td>\n      <td>82.81</td>\n      <td>93</td>\n    </tr>\n    <tr>\n      <td>2787</td>\n      <td>Odisha</td>\n      <td>3250</td>\n      <td>9</td>\n      <td>2282</td>\n      <td>2020-06-11</td>\n      <td>959</td>\n      <td>0.28</td>\n      <td>70.22</td>\n      <td>29.51</td>\n      <td>93</td>\n    </tr>\n    <tr>\n      <td>2788</td>\n      <td>Puducherry</td>\n      <td>127</td>\n      <td>0</td>\n      <td>53</td>\n      <td>2020-06-11</td>\n      <td>74</td>\n      <td>0.00</td>\n      <td>41.73</td>\n      <td>58.27</td>\n      <td>93</td>\n    </tr>\n    <tr>\n      <td>2789</td>\n      <td>Punjab</td>\n      <td>2805</td>\n      <td>55</td>\n      <td>2232</td>\n      <td>2020-06-11</td>\n      <td>518</td>\n      <td>1.96</td>\n      <td>79.57</td>\n      <td>18.47</td>\n      <td>93</td>\n    </tr>\n    <tr>\n      <td>2790</td>\n      <td>Rajasthan</td>\n      <td>11600</td>\n      <td>259</td>\n      <td>8569</td>\n      <td>2020-06-11</td>\n      <td>2772</td>\n      <td>2.23</td>\n      <td>73.87</td>\n      <td>23.90</td>\n      <td>93</td>\n    </tr>\n    <tr>\n      <td>2791</td>\n      <td>Sikkim</td>\n      <td>13</td>\n      <td>0</td>\n      <td>0</td>\n      <td>2020-06-11</td>\n      <td>13</td>\n      <td>0.00</td>\n      <td>0.00</td>\n      <td>100.00</td>\n      <td>93</td>\n    </tr>\n    <tr>\n      <td>2792</td>\n      <td>Tamil Nadu</td>\n      <td>36841</td>\n      <td>326</td>\n      <td>19333</td>\n      <td>2020-06-11</td>\n      <td>17182</td>\n      <td>0.88</td>\n      <td>52.48</td>\n      <td>46.64</td>\n      <td>93</td>\n    </tr>\n    <tr>\n      <td>2793</td>\n      <td>Telengana</td>\n      <td>4111</td>\n      <td>156</td>\n      <td>1817</td>\n      <td>2020-06-11</td>\n      <td>2138</td>\n      <td>3.79</td>\n      <td>44.20</td>\n      <td>52.01</td>\n      <td>93</td>\n    </tr>\n    <tr>\n      <td>2794</td>\n      <td>Tripura</td>\n      <td>895</td>\n      <td>1</td>\n      <td>239</td>\n      <td>2020-06-11</td>\n      <td>655</td>\n      <td>0.11</td>\n      <td>26.70</td>\n      <td>73.18</td>\n      <td>93</td>\n    </tr>\n    <tr>\n      <td>2795</td>\n      <td>Uttarakhand</td>\n      <td>1562</td>\n      <td>15</td>\n      <td>831</td>\n      <td>2020-06-11</td>\n      <td>716</td>\n      <td>0.96</td>\n      <td>53.20</td>\n      <td>45.84</td>\n      <td>93</td>\n    </tr>\n    <tr>\n      <td>2796</td>\n      <td>Uttar Pradesh</td>\n      <td>11610</td>\n      <td>321</td>\n      <td>6871</td>\n      <td>2020-06-11</td>\n      <td>4418</td>\n      <td>2.76</td>\n      <td>59.18</td>\n      <td>38.05</td>\n      <td>93</td>\n    </tr>\n    <tr>\n      <td>2797</td>\n      <td>West Bengal</td>\n      <td>9328</td>\n      <td>432</td>\n      <td>3779</td>\n      <td>2020-06-11</td>\n      <td>5117</td>\n      <td>4.63</td>\n      <td>40.51</td>\n      <td>54.86</td>\n      <td>93</td>\n    </tr>\n  </tbody>\n</table>\n</div>"
     },
     "metadata": {},
     "execution_count": 4
    }
   ],
   "source": [
    "df_statewise['days']=df_statewise['date'].apply(lambda x: (pd.to_datetime(x)-pd.to_datetime('2020-03-10')).days)\n",
    "df_statewise[-35:]"
   ]
  },
  {
   "cell_type": "code",
   "execution_count": 32,
   "metadata": {},
   "outputs": [
    {
     "output_type": "error",
     "ename": "IndexError",
     "evalue": "index 0 is out of bounds for axis 0 with size 0",
     "traceback": [
      "\u001b[1;31m---------------------------------------------------------------------------\u001b[0m",
      "\u001b[1;31mIndexError\u001b[0m                                Traceback (most recent call last)",
      "\u001b[1;32m<ipython-input-32-e3151e4f06dc>\u001b[0m in \u001b[0;36m<module>\u001b[1;34m\u001b[0m\n\u001b[0;32m      5\u001b[0m \u001b[0mdf_statewise\u001b[0m\u001b[1;33m.\u001b[0m\u001b[0mreset_index\u001b[0m\u001b[1;33m(\u001b[0m\u001b[0minplace\u001b[0m\u001b[1;33m=\u001b[0m\u001b[1;32mTrue\u001b[0m\u001b[1;33m,\u001b[0m \u001b[0mdrop\u001b[0m\u001b[1;33m=\u001b[0m\u001b[1;32mTrue\u001b[0m\u001b[1;33m)\u001b[0m\u001b[1;33m\u001b[0m\u001b[1;33m\u001b[0m\u001b[0m\n\u001b[0;32m      6\u001b[0m \u001b[1;32mfor\u001b[0m \u001b[0mstate\u001b[0m \u001b[1;32min\u001b[0m \u001b[0mdf_statewise\u001b[0m\u001b[1;33m[\u001b[0m\u001b[1;34m'loc'\u001b[0m\u001b[1;33m]\u001b[0m\u001b[1;33m.\u001b[0m\u001b[0munique\u001b[0m\u001b[1;33m(\u001b[0m\u001b[1;33m)\u001b[0m\u001b[1;33m:\u001b[0m\u001b[1;33m\u001b[0m\u001b[1;33m\u001b[0m\u001b[0m\n\u001b[1;32m----> 7\u001b[1;33m     \u001b[0mdf_statewise\u001b[0m\u001b[1;33m.\u001b[0m\u001b[0mloc\u001b[0m\u001b[1;33m[\u001b[0m\u001b[0mdf_statewise\u001b[0m\u001b[1;33m[\u001b[0m\u001b[1;34m'loc'\u001b[0m\u001b[1;33m]\u001b[0m\u001b[1;33m==\u001b[0m\u001b[0mstate\u001b[0m\u001b[1;33m,\u001b[0m\u001b[1;34m'Latitude'\u001b[0m\u001b[1;33m]\u001b[0m\u001b[1;33m=\u001b[0m\u001b[0mdf_coords_state\u001b[0m\u001b[1;33m[\u001b[0m\u001b[0mdf_coords_state\u001b[0m\u001b[1;33m[\u001b[0m\u001b[1;34m'State'\u001b[0m\u001b[1;33m]\u001b[0m\u001b[1;33m==\u001b[0m\u001b[0mstate\u001b[0m\u001b[1;33m]\u001b[0m\u001b[1;33m[\u001b[0m\u001b[1;34m'Latitude'\u001b[0m\u001b[1;33m]\u001b[0m\u001b[1;33m.\u001b[0m\u001b[0mvalues\u001b[0m\u001b[1;33m[\u001b[0m\u001b[1;36m0\u001b[0m\u001b[1;33m]\u001b[0m\u001b[1;33m\u001b[0m\u001b[1;33m\u001b[0m\u001b[0m\n\u001b[0m\u001b[0;32m      8\u001b[0m     \u001b[0mdf_statewise\u001b[0m\u001b[1;33m.\u001b[0m\u001b[0mloc\u001b[0m\u001b[1;33m[\u001b[0m\u001b[0mdf_statewise\u001b[0m\u001b[1;33m[\u001b[0m\u001b[1;34m'loc'\u001b[0m\u001b[1;33m]\u001b[0m\u001b[1;33m==\u001b[0m\u001b[0mstate\u001b[0m\u001b[1;33m,\u001b[0m\u001b[1;34m'Longitude'\u001b[0m\u001b[1;33m]\u001b[0m\u001b[1;33m=\u001b[0m\u001b[0mdf_coords_state\u001b[0m\u001b[1;33m[\u001b[0m\u001b[0mdf_coords_state\u001b[0m\u001b[1;33m[\u001b[0m\u001b[1;34m'State'\u001b[0m\u001b[1;33m]\u001b[0m\u001b[1;33m==\u001b[0m\u001b[0mstate\u001b[0m\u001b[1;33m]\u001b[0m\u001b[1;33m[\u001b[0m\u001b[1;34m'Longitude'\u001b[0m\u001b[1;33m]\u001b[0m\u001b[1;33m.\u001b[0m\u001b[0mvalues\u001b[0m\u001b[1;33m[\u001b[0m\u001b[1;36m0\u001b[0m\u001b[1;33m]\u001b[0m\u001b[1;33m\u001b[0m\u001b[1;33m\u001b[0m\u001b[0m\n\u001b[0;32m      9\u001b[0m \u001b[0mdf\u001b[0m\u001b[1;33m=\u001b[0m\u001b[0mdf_statewise\u001b[0m\u001b[1;33m\u001b[0m\u001b[1;33m\u001b[0m\u001b[0m\n",
      "\u001b[1;31mIndexError\u001b[0m: index 0 is out of bounds for axis 0 with size 0"
     ]
    }
   ],
   "source": [
    "df_coords_state=pd.read_csv('state wise centroids_2011.csv')\n",
    "df_statewise=pd.read_csv('df_statewise.csv')\n",
    "df_statewise=df_statewise[-35:]\n",
    "df_statewise=df_statewise[['loc','total','active','deaths','discharged']]\n",
    "df_statewise.reset_index(inplace=True, drop=True)\n",
    "for state in df_statewise['loc'].unique():\n",
    "    df_statewise.loc[df_statewise['loc']==state,'Latitude']=df_coords_state[df_coords_state['State']==state]['Latitude'].values[0]\n",
    "    df_statewise.loc[df_statewise['loc']==state,'Longitude']=df_coords_state[df_coords_state['State']==state]['Longitude'].values[0]\n",
    "df=df_statewise"
   ]
  },
  {
   "cell_type": "code",
   "execution_count": 34,
   "metadata": {},
   "outputs": [
    {
     "output_type": "stream",
     "name": "stdout",
     "text": "Andhra Pradesh\n[79.91620298]\nArunachal Pradesh\n[94.54532681]\nAssam\n[92.65731036]\nBihar\n[85.63677401]\nChandigarh\n[76.75872466]\nChhattisgarh\n[82.12509334]\nDadar Nagar Haveli\n[73.09454961]\nDaman & Diu\n[]\nDelhi\n[77.12804518]\nGoa\n[73.86601626]\nGujarat\n[72.19574739]\nHaryana\n[76.52123743]\nHimachal Pradesh\n[76.85561814]\nJammu and Kashmir\n[75.00063062]\nJharkhand\n[85.85996246]\nKarnataka\n[76.29962468]\nKerala\n[76.21770621]\nLadakh\n[77.577049]\nMadhya Pradesh\n[78.08249213]\nMaharashtra\n[75.27055447]\nManipur\n[93.8644935]\nMeghalaya\n[91.2375107]\nMizoram\n[92.81661901]\nNagaland\n[94.3257526]\nOdisha\n[84.98396584]\nPuducherry\n[79.75997363]\nPunjab\n[75.45295226]\nRajasthan\n[75.22539475]\nSikkim\n[88.51230522]\nTamil Nadu\n[78.76274652]\nTelengana\n[78.4867]\nTripura\n[91.65871314]\nUttarakhand\n[78.84563219]\nUttar Pradesh\n[80.65919244]\nWest Bengal\n[88.14959609]\n"
    }
   ],
   "source": [
    "for state in df_statewise['loc'].unique():\n",
    "    print(state)\n",
    "    print(df_coords_state[df_coords_state['State']==state]['Longitude'].values)"
   ]
  },
  {
   "cell_type": "code",
   "execution_count": 39,
   "metadata": {},
   "outputs": [
    {
     "output_type": "execute_result",
     "data": {
      "text/plain": "array(['Andhra Pradesh', 'Arunachal Pradesh', 'Assam', 'Bihar',\n       'Chandigarh', 'Chhattisgarh', 'Dadar Nagar Haveli', 'Daman & Diu',\n       'Delhi', 'Goa', 'Gujarat', 'Haryana', 'Himachal Pradesh',\n       'Jammu and Kashmir', 'Jharkhand', 'Karnataka', 'Kerala', 'Ladakh',\n       'Madhya Pradesh', 'Maharashtra', 'Manipur', 'Meghalaya', 'Mizoram',\n       'Nagaland', 'Odisha', 'Puducherry', 'Punjab', 'Rajasthan',\n       'Sikkim', 'Tamil Nadu', 'Telengana', 'Tripura', 'Uttar Pradesh',\n       'Uttarakhand', 'West Bengal'], dtype=object)"
     },
     "metadata": {},
     "execution_count": 39
    }
   ],
   "source": [
    "#import numpy as np\n",
    "(np.sort(df_statewise['loc'].values))"
   ]
  },
  {
   "cell_type": "code",
   "execution_count": 37,
   "metadata": {},
   "outputs": [
    {
     "output_type": "execute_result",
     "data": {
      "text/plain": "array(['Andaman and Nicobar Islands', 'Andhra Pradesh',\n       'Arunachal Pradesh', 'Assam', 'Bihar', 'Chandigarh',\n       'Chhattisgarh', 'Dadar Nagar Haveli', 'Delhi', 'Goa', 'Gujarat',\n       'Haryana', 'Himachal Pradesh', 'Jammu and Kashmir', 'Jharkhand',\n       'Karnataka', 'Kerala', 'Ladakh', 'Madhya Pradesh', 'Maharashtra',\n       'Manipur', 'Meghalaya', 'Mizoram', 'Nagaland', 'Odisha',\n       'Puducherry', 'Punjab', 'Rajasthan', 'Sikkim', 'Tamil Nadu',\n       'Telengana', 'Tripura', 'Uttar Pradesh', 'Uttarakhand',\n       'West Bengal'], dtype=object)"
     },
     "metadata": {},
     "execution_count": 37
    }
   ],
   "source": [
    "(np.sort(df_coords_state['State'].values))"
   ]
  },
  {
   "cell_type": "code",
   "execution_count": 42,
   "metadata": {},
   "outputs": [
    {
     "output_type": "execute_result",
     "data": {
      "text/plain": "              loc  total  deaths  discharged        date  active  perdeath  \\\n2770  Daman & Diu      2       0           0  2020-06-11       2       0.0   \n\n      perdis  peractive  \n2770     0.0      100.0  ",
      "text/html": "<div>\n<style scoped>\n    .dataframe tbody tr th:only-of-type {\n        vertical-align: middle;\n    }\n\n    .dataframe tbody tr th {\n        vertical-align: top;\n    }\n\n    .dataframe thead th {\n        text-align: right;\n    }\n</style>\n<table border=\"1\" class=\"dataframe\">\n  <thead>\n    <tr style=\"text-align: right;\">\n      <th></th>\n      <th>loc</th>\n      <th>total</th>\n      <th>deaths</th>\n      <th>discharged</th>\n      <th>date</th>\n      <th>active</th>\n      <th>perdeath</th>\n      <th>perdis</th>\n      <th>peractive</th>\n    </tr>\n  </thead>\n  <tbody>\n    <tr>\n      <td>2770</td>\n      <td>Daman &amp; Diu</td>\n      <td>2</td>\n      <td>0</td>\n      <td>0</td>\n      <td>2020-06-11</td>\n      <td>2</td>\n      <td>0.0</td>\n      <td>0.0</td>\n      <td>100.0</td>\n    </tr>\n  </tbody>\n</table>\n</div>"
     },
     "metadata": {},
     "execution_count": 42
    }
   ],
   "source": [
    "df_statewise[df_statewise['loc']=='Daman & Diu']"
   ]
  },
  {
   "cell_type": "code",
   "execution_count": 6,
   "metadata": {},
   "outputs": [],
   "source": [
    "import plotly.graph_objects as go\n",
    "from plotly.subplots import make_subplots\n"
   ]
  },
  {
   "cell_type": "code",
   "execution_count": 49,
   "metadata": {},
   "outputs": [
    {
     "output_type": "execute_result",
     "data": {
      "text/plain": "array(['Delhi', 'Haryana', 'Karnataka', 'Kerala', 'Maharashtra', 'Punjab',\n       'Rajasthan', 'Tamil Nadu', 'Telengana', 'Jammu and Kashmir',\n       'Ladakh', 'Uttar Pradesh', 'Andhra Pradesh', 'Uttarakhand',\n       'Odisha', 'Puducherry', 'West Bengal', 'Chhattisgarh',\n       'Chandigarh', 'Gujarat', 'Himachal Pradesh', 'Madhya Pradesh',\n       'Bihar', 'Manipur', 'Mizoram', 'Goa', 'Assam', 'Jharkhand',\n       'Arunachal Pradesh', 'Tripura', 'Nagaland', 'Meghalaya',\n       'Dadar Nagar Haveli', 'Sikkim', 'Daman & Diu'], dtype=object)"
     },
     "metadata": {},
     "execution_count": 49
    }
   ],
   "source": [
    "np.delete(df_statewise['loc'].unique(),np.where(df_statewise['loc'].unique()=='Andaman and Nicobar Islands'))"
   ]
  },
  {
   "cell_type": "code",
   "execution_count": 3,
   "metadata": {},
   "outputs": [
    {
     "output_type": "stream",
     "name": "stdout",
     "text": "24.148888888888887\n"
    }
   ],
   "source": [
    "import pandas as pd\n",
    "df_timestamp=pd.read_csv('df_timestamp.csv')\n",
    "timestamp=pd.to_datetime(df_timestamp.loc[0].values[0])\n",
    "from datetime import datetime\n",
    "print(((datetime.today()-timestamp).seconds/3600 + (datetime.today()-timestamp).days*24))\n"
   ]
  },
  {
   "cell_type": "code",
   "execution_count": 25,
   "metadata": {},
   "outputs": [
    {
     "output_type": "execute_result",
     "data": {
      "text/plain": "0        0.000000\n1        0.000000\n3        0.000000\n4        0.000000\n5        0.000000\n         ...     \n81    3423.285714\n82    3332.428571\n83    3434.714286\n84    3477.142857\n85    3899.714286\nName: window_size_7, Length: 84, dtype: float64"
     },
     "metadata": {},
     "execution_count": 25
    }
   ],
   "source": [
    "df_india_daily.window_size_7"
   ]
  },
  {
   "cell_type": "code",
   "execution_count": 2,
   "metadata": {},
   "outputs": [
    {
     "output_type": "stream",
     "name": "stdout",
     "text": "0.9263888888888889\n2020-06-11 19:52:07.368968\n"
    }
   ],
   "source": [
    "import pandas as pd\n",
    "df_timestamp=pd.read_csv('df_timestamp.csv')\n",
    "timestamp=pd.to_datetime(df_timestamp.loc[0].values[0])\n",
    "from datetime import datetime\n",
    "from datetime import timedelta\n",
    "print(((datetime.today()+ timedelta(seconds=19800))-timestamp).seconds/3600 + ((datetime.today()+ timedelta(seconds=19800))-timestamp).days*24)\n",
    "print(timestamp)\n"
   ]
  },
  {
   "cell_type": "code",
   "execution_count": 7,
   "metadata": {},
   "outputs": [
    {
     "output_type": "execute_result",
     "data": {
      "text/plain": "Timedelta('0 days 00:57:08.599421')"
     },
     "metadata": {},
     "execution_count": 7
    }
   ],
   "source": []
  },
  {
   "cell_type": "code",
   "execution_count": null,
   "metadata": {},
   "outputs": [],
   "source": []
  }
 ],
 "metadata": {
  "language_info": {
   "codemirror_mode": {
    "name": "ipython",
    "version": 3
   },
   "file_extension": ".py",
   "mimetype": "text/x-python",
   "name": "python",
   "nbconvert_exporter": "python",
   "pygments_lexer": "ipython3",
   "version": "3.7.4-final"
  },
  "orig_nbformat": 2,
  "kernelspec": {
   "name": "python3",
   "display_name": "Python 3"
  }
 },
 "nbformat": 4,
 "nbformat_minor": 2
}