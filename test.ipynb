{
 "cells": [
  {
   "cell_type": "code",
   "execution_count": 8,
   "metadata": {},
   "outputs": [],
   "source": [
    "import pandas as pd\n",
    "df_india=pd.read_csv('df_india.csv')\n",
    "df_statewise=pd.read_csv('df_statewise.csv')\n",
    "#df_india_daily=pd.read_csv('df_india_daily.csv')\n",
    "#df_daily_statewise=pd.read_csv('df_daily_statewise.csv')\n",
    "#df_india_daily=df_india_daily[df_india_daily['active']>=0]\n",
    "#import matplotlib.pyplot as plt\n"
   ]
  },
  {
   "cell_type": "code",
   "execution_count": 5,
   "metadata": {},
   "outputs": [
    {
     "data": {
      "text/html": [
       "<div>\n",
       "<style scoped>\n",
       "    .dataframe tbody tr th:only-of-type {\n",
       "        vertical-align: middle;\n",
       "    }\n",
       "\n",
       "    .dataframe tbody tr th {\n",
       "        vertical-align: top;\n",
       "    }\n",
       "\n",
       "    .dataframe thead th {\n",
       "        text-align: right;\n",
       "    }\n",
       "</style>\n",
       "<table border=\"1\" class=\"dataframe\">\n",
       "  <thead>\n",
       "    <tr style=\"text-align: right;\">\n",
       "      <th></th>\n",
       "      <th>loc</th>\n",
       "      <th>total</th>\n",
       "      <th>deaths</th>\n",
       "      <th>discharged</th>\n",
       "      <th>date</th>\n",
       "      <th>active</th>\n",
       "      <th>perdeath</th>\n",
       "      <th>perdis</th>\n",
       "      <th>peractive</th>\n",
       "    </tr>\n",
       "  </thead>\n",
       "  <tbody>\n",
       "    <tr>\n",
       "      <td>230</td>\n",
       "      <td>Andhra Pradesh</td>\n",
       "      <td>8</td>\n",
       "      <td>0</td>\n",
       "      <td>0</td>\n",
       "      <td>2020-03-24</td>\n",
       "      <td>8</td>\n",
       "      <td>0.00</td>\n",
       "      <td>0.00</td>\n",
       "      <td>100.00</td>\n",
       "    </tr>\n",
       "    <tr>\n",
       "      <td>231</td>\n",
       "      <td>Bihar</td>\n",
       "      <td>3</td>\n",
       "      <td>1</td>\n",
       "      <td>0</td>\n",
       "      <td>2020-03-24</td>\n",
       "      <td>2</td>\n",
       "      <td>33.33</td>\n",
       "      <td>0.00</td>\n",
       "      <td>66.67</td>\n",
       "    </tr>\n",
       "    <tr>\n",
       "      <td>232</td>\n",
       "      <td>Chhattisgarh</td>\n",
       "      <td>1</td>\n",
       "      <td>0</td>\n",
       "      <td>0</td>\n",
       "      <td>2020-03-24</td>\n",
       "      <td>1</td>\n",
       "      <td>0.00</td>\n",
       "      <td>0.00</td>\n",
       "      <td>100.00</td>\n",
       "    </tr>\n",
       "    <tr>\n",
       "      <td>233</td>\n",
       "      <td>Delhi</td>\n",
       "      <td>30</td>\n",
       "      <td>2</td>\n",
       "      <td>6</td>\n",
       "      <td>2020-03-24</td>\n",
       "      <td>22</td>\n",
       "      <td>6.67</td>\n",
       "      <td>20.00</td>\n",
       "      <td>73.33</td>\n",
       "    </tr>\n",
       "    <tr>\n",
       "      <td>234</td>\n",
       "      <td>Gujarat</td>\n",
       "      <td>33</td>\n",
       "      <td>1</td>\n",
       "      <td>0</td>\n",
       "      <td>2020-03-24</td>\n",
       "      <td>32</td>\n",
       "      <td>3.03</td>\n",
       "      <td>0.00</td>\n",
       "      <td>96.97</td>\n",
       "    </tr>\n",
       "    <tr>\n",
       "      <td>...</td>\n",
       "      <td>...</td>\n",
       "      <td>...</td>\n",
       "      <td>...</td>\n",
       "      <td>...</td>\n",
       "      <td>...</td>\n",
       "      <td>...</td>\n",
       "      <td>...</td>\n",
       "      <td>...</td>\n",
       "      <td>...</td>\n",
       "    </tr>\n",
       "    <tr>\n",
       "      <td>2372</td>\n",
       "      <td>Telengana</td>\n",
       "      <td>2425</td>\n",
       "      <td>71</td>\n",
       "      <td>1381</td>\n",
       "      <td>2020-05-30</td>\n",
       "      <td>973</td>\n",
       "      <td>2.93</td>\n",
       "      <td>56.95</td>\n",
       "      <td>40.12</td>\n",
       "    </tr>\n",
       "    <tr>\n",
       "      <td>2373</td>\n",
       "      <td>Tripura</td>\n",
       "      <td>251</td>\n",
       "      <td>0</td>\n",
       "      <td>171</td>\n",
       "      <td>2020-05-30</td>\n",
       "      <td>80</td>\n",
       "      <td>0.00</td>\n",
       "      <td>68.13</td>\n",
       "      <td>31.87</td>\n",
       "    </tr>\n",
       "    <tr>\n",
       "      <td>2374</td>\n",
       "      <td>Uttarakhand</td>\n",
       "      <td>716</td>\n",
       "      <td>5</td>\n",
       "      <td>102</td>\n",
       "      <td>2020-05-30</td>\n",
       "      <td>609</td>\n",
       "      <td>0.70</td>\n",
       "      <td>14.25</td>\n",
       "      <td>85.06</td>\n",
       "    </tr>\n",
       "    <tr>\n",
       "      <td>2375</td>\n",
       "      <td>Uttar Pradesh</td>\n",
       "      <td>7284</td>\n",
       "      <td>198</td>\n",
       "      <td>4244</td>\n",
       "      <td>2020-05-30</td>\n",
       "      <td>2842</td>\n",
       "      <td>2.72</td>\n",
       "      <td>58.26</td>\n",
       "      <td>39.02</td>\n",
       "    </tr>\n",
       "    <tr>\n",
       "      <td>2376</td>\n",
       "      <td>West Bengal</td>\n",
       "      <td>4813</td>\n",
       "      <td>302</td>\n",
       "      <td>1775</td>\n",
       "      <td>2020-05-30</td>\n",
       "      <td>2736</td>\n",
       "      <td>6.27</td>\n",
       "      <td>36.88</td>\n",
       "      <td>56.85</td>\n",
       "    </tr>\n",
       "  </tbody>\n",
       "</table>\n",
       "<p>157 rows × 9 columns</p>\n",
       "</div>"
      ],
      "text/plain": [
       "                 loc  total  deaths  discharged        date  active  perdeath  \\\n",
       "230   Andhra Pradesh      8       0           0  2020-03-24       8      0.00   \n",
       "231            Bihar      3       1           0  2020-03-24       2     33.33   \n",
       "232     Chhattisgarh      1       0           0  2020-03-24       1      0.00   \n",
       "233            Delhi     30       2           6  2020-03-24      22      6.67   \n",
       "234          Gujarat     33       1           0  2020-03-24      32      3.03   \n",
       "...              ...    ...     ...         ...         ...     ...       ...   \n",
       "2372       Telengana   2425      71        1381  2020-05-30     973      2.93   \n",
       "2373         Tripura    251       0         171  2020-05-30      80      0.00   \n",
       "2374     Uttarakhand    716       5         102  2020-05-30     609      0.70   \n",
       "2375   Uttar Pradesh   7284     198        4244  2020-05-30    2842      2.72   \n",
       "2376     West Bengal   4813     302        1775  2020-05-30    2736      6.27   \n",
       "\n",
       "      perdis  peractive  \n",
       "230     0.00     100.00  \n",
       "231     0.00      66.67  \n",
       "232     0.00     100.00  \n",
       "233    20.00      73.33  \n",
       "234     0.00      96.97  \n",
       "...      ...        ...  \n",
       "2372   56.95      40.12  \n",
       "2373   68.13      31.87  \n",
       "2374   14.25      85.06  \n",
       "2375   58.26      39.02  \n",
       "2376   36.88      56.85  \n",
       "\n",
       "[157 rows x 9 columns]"
      ]
     },
     "execution_count": 5,
     "metadata": {},
     "output_type": "execute_result"
    }
   ],
   "source": [
    "date_list=['2020-03-24', '2020-04-14', '2020-05-01', '2020-05-17','2020-05-30',]\n",
    "df2=df[df['date'].isin(date_list)]"
   ]
  },
  {
   "cell_type": "code",
   "execution_count": 12,
   "metadata": {},
   "outputs": [],
   "source": [
    "df=df_india\n",
    "date_list=['2020-03-24', '2020-04-14', '2020-05-01', '2020-05-17','2020-05-30',df[-1:].date.values[0]]\n",
    "df2=df[df['date'].isin(date_list)]\n",
    "for i in range(0,4):\n",
    "    x=date_list[i]\n",
    "    df2.loc[df2['date']==x,'lockdown']='Lockdown {}'.format(i)\n",
    "df2.loc[df2['date']=='2020-05-30','lockdown']='Unlock {}'.format(1)\n",
    "df2.loc[df2['date']==df[-1:].date.values[0],'lockdown']='Present'"
   ]
  },
  {
   "cell_type": "code",
   "execution_count": 18,
   "metadata": {},
   "outputs": [
    {
     "data": {
      "text/html": [
       "<div>\n",
       "<style scoped>\n",
       "    .dataframe tbody tr th:only-of-type {\n",
       "        vertical-align: middle;\n",
       "    }\n",
       "\n",
       "    .dataframe tbody tr th {\n",
       "        vertical-align: top;\n",
       "    }\n",
       "\n",
       "    .dataframe thead th {\n",
       "        text-align: right;\n",
       "    }\n",
       "</style>\n",
       "<table border=\"1\" class=\"dataframe\">\n",
       "  <thead>\n",
       "    <tr style=\"text-align: right;\">\n",
       "      <th></th>\n",
       "      <th>loc</th>\n",
       "      <th>total</th>\n",
       "      <th>active</th>\n",
       "      <th>deaths</th>\n",
       "      <th>discharged</th>\n",
       "      <th>Latitude</th>\n",
       "      <th>Longitude</th>\n",
       "    </tr>\n",
       "  </thead>\n",
       "  <tbody>\n",
       "    <tr>\n",
       "      <td>0</td>\n",
       "      <td>Delhi</td>\n",
       "      <td>4</td>\n",
       "      <td>4</td>\n",
       "      <td>0</td>\n",
       "      <td>0</td>\n",
       "      <td>28.645944</td>\n",
       "      <td>77.128045</td>\n",
       "    </tr>\n",
       "    <tr>\n",
       "      <td>1</td>\n",
       "      <td>Haryana</td>\n",
       "      <td>14</td>\n",
       "      <td>14</td>\n",
       "      <td>0</td>\n",
       "      <td>0</td>\n",
       "      <td>29.195616</td>\n",
       "      <td>76.521237</td>\n",
       "    </tr>\n",
       "    <tr>\n",
       "      <td>2</td>\n",
       "      <td>Karnataka</td>\n",
       "      <td>1</td>\n",
       "      <td>1</td>\n",
       "      <td>0</td>\n",
       "      <td>0</td>\n",
       "      <td>14.369817</td>\n",
       "      <td>76.299625</td>\n",
       "    </tr>\n",
       "    <tr>\n",
       "      <td>3</td>\n",
       "      <td>Kerala</td>\n",
       "      <td>9</td>\n",
       "      <td>9</td>\n",
       "      <td>0</td>\n",
       "      <td>0</td>\n",
       "      <td>10.326706</td>\n",
       "      <td>76.217706</td>\n",
       "    </tr>\n",
       "    <tr>\n",
       "      <td>4</td>\n",
       "      <td>Maharashtra</td>\n",
       "      <td>2</td>\n",
       "      <td>2</td>\n",
       "      <td>0</td>\n",
       "      <td>0</td>\n",
       "      <td>19.392516</td>\n",
       "      <td>75.270554</td>\n",
       "    </tr>\n",
       "    <tr>\n",
       "      <td>...</td>\n",
       "      <td>...</td>\n",
       "      <td>...</td>\n",
       "      <td>...</td>\n",
       "      <td>...</td>\n",
       "      <td>...</td>\n",
       "      <td>...</td>\n",
       "      <td>...</td>\n",
       "    </tr>\n",
       "    <tr>\n",
       "      <td>2816</td>\n",
       "      <td>Maharashtra</td>\n",
       "      <td>97648</td>\n",
       "      <td>47980</td>\n",
       "      <td>3590</td>\n",
       "      <td>46078</td>\n",
       "      <td>19.392516</td>\n",
       "      <td>75.270554</td>\n",
       "    </tr>\n",
       "    <tr>\n",
       "      <td>2823</td>\n",
       "      <td>Punjab</td>\n",
       "      <td>2887</td>\n",
       "      <td>569</td>\n",
       "      <td>59</td>\n",
       "      <td>2259</td>\n",
       "      <td>30.912061</td>\n",
       "      <td>75.452952</td>\n",
       "    </tr>\n",
       "    <tr>\n",
       "      <td>2824</td>\n",
       "      <td>Rajasthan</td>\n",
       "      <td>11838</td>\n",
       "      <td>2798</td>\n",
       "      <td>265</td>\n",
       "      <td>8775</td>\n",
       "      <td>26.493282</td>\n",
       "      <td>75.225395</td>\n",
       "    </tr>\n",
       "    <tr>\n",
       "      <td>2826</td>\n",
       "      <td>Tamil Nadu</td>\n",
       "      <td>38716</td>\n",
       "      <td>17662</td>\n",
       "      <td>349</td>\n",
       "      <td>20705</td>\n",
       "      <td>11.159711</td>\n",
       "      <td>78.762747</td>\n",
       "    </tr>\n",
       "    <tr>\n",
       "      <td>2830</td>\n",
       "      <td>Uttar Pradesh</td>\n",
       "      <td>12088</td>\n",
       "      <td>4451</td>\n",
       "      <td>345</td>\n",
       "      <td>7292</td>\n",
       "      <td>27.069163</td>\n",
       "      <td>80.659192</td>\n",
       "    </tr>\n",
       "  </tbody>\n",
       "</table>\n",
       "<p>1138 rows × 7 columns</p>\n",
       "</div>"
      ],
      "text/plain": [
       "                loc  total  active  deaths  discharged   Latitude  Longitude\n",
       "0             Delhi      4       4       0           0  28.645944  77.128045\n",
       "1           Haryana     14      14       0           0  29.195616  76.521237\n",
       "2         Karnataka      1       1       0           0  14.369817  76.299625\n",
       "3            Kerala      9       9       0           0  10.326706  76.217706\n",
       "4       Maharashtra      2       2       0           0  19.392516  75.270554\n",
       "...             ...    ...     ...     ...         ...        ...        ...\n",
       "2816    Maharashtra  97648   47980    3590       46078  19.392516  75.270554\n",
       "2823         Punjab   2887     569      59        2259  30.912061  75.452952\n",
       "2824      Rajasthan  11838    2798     265        8775  26.493282  75.225395\n",
       "2826     Tamil Nadu  38716   17662     349       20705  11.159711  78.762747\n",
       "2830  Uttar Pradesh  12088    4451     345        7292  27.069163  80.659192\n",
       "\n",
       "[1138 rows x 7 columns]"
      ]
     },
     "execution_count": 18,
     "metadata": {},
     "output_type": "execute_result"
    }
   ],
   "source": [
    "#df_statewise['days']=df_statewise['date'].apply(lambda x: (pd.to_datetime(x)-pd.to_datetime('2020-03-10')).days)\n",
    "df_statewise[df_statewise['loc'].isin(df_statewise[:35]['loc'].values)]"
   ]
  },
  {
   "cell_type": "code",
   "execution_count": 33,
   "metadata": {},
   "outputs": [
    {
     "data": {
      "text/plain": [
       "array(['Delhi', 'Haryana', 'Karnataka', 'Kerala', 'Maharashtra', 'Punjab',\n",
       "       'Rajasthan', 'Tamil Nadu', 'Telengana', 'Jammu and Kashmir',\n",
       "       'Ladakh', 'Uttar Pradesh', 'Delhi', 'Haryana', 'Karnataka',\n",
       "       'Kerala', 'Maharashtra', 'Punjab', 'Rajasthan', 'Tamil Nadu',\n",
       "       'Telengana', 'Jammu and Kashmir', 'Ladakh', 'Uttar Pradesh',\n",
       "       'Delhi', 'Haryana', 'Karnataka', 'Kerala', 'Maharashtra', 'Punjab',\n",
       "       'Rajasthan', 'Tamil Nadu', 'Telengana', 'Jammu and Kashmir',\n",
       "       'Ladakh'], dtype=object)"
      ]
     },
     "execution_count": 33,
     "metadata": {},
     "output_type": "execute_result"
    }
   ],
   "source": [
    "import numpy as np\n",
    "df_statewise[0:35]['loc'].values"
   ]
  },
  {
   "cell_type": "code",
   "execution_count": 16,
   "metadata": {},
   "outputs": [],
   "source": [
    "df_coords_state=pd.read_csv('state wise centroids_2011.csv')\n",
    "df_statewise=pd.read_csv('df_statewise.csv')\n",
    "#df_statewise=df_statewise[-35:]\n",
    "df_statewise[-70:-35]\n",
    "df_statewise=df_statewise[['loc','total','active','deaths','discharged']]\n",
    "df_statewise.reset_index(inplace=True, drop=True)\n",
    "df_statewise=df_statewise[(df_statewise['loc']!='Daman & Diu') & (df_statewise['loc']!='Lakshadweep')]\n",
    "df_statewise.loc[df_statewise['loc']=='Telangana','loc']='Telengana'\n",
    "df_statewise.loc[df_statewise['loc']=='Telangana***','loc']='Telengana'\n",
    "df_statewise.loc[df_statewise['loc']=='Dadra and Nagar Haveli and Daman and Diu','loc']='Dadar Nagar Haveli'\n",
    "for state in df_statewise['loc'].unique():\n",
    "   #df_statewise.loc[df_statewise['loc']==state,'Latitude']=df_coords_state[df_coords_state['State']==state]#['Latitude'].values[0]\n",
    "   df_statewise.loc[df_statewise['loc']==state,'Longitude']=df_coords_state[df_coords_state['State']==state]['Longitude'].values[0]\n",
    "df=df_statewise"
   ]
  },
  {
   "cell_type": "code",
   "execution_count": 17,
   "metadata": {
    "tags": []
   },
   "outputs": [
    {
     "output_type": "stream",
     "name": "stdout",
     "text": "Delhi\n[77.12804518]\nHaryana\n[76.52123743]\nKarnataka\n[76.29962468]\nKerala\n[76.21770621]\nMaharashtra\n[75.27055447]\nPunjab\n[75.45295226]\nRajasthan\n[75.22539475]\nTamil Nadu\n[78.76274652]\nTelengana\n[78.4867]\nJammu and Kashmir\n[75.00063062]\nLadakh\n[77.577049]\nUttar Pradesh\n[80.65919244]\nAndhra Pradesh\n[79.91620298]\nUttarakhand\n[78.84563219]\nOdisha\n[84.98396584]\nPuducherry\n[79.75997363]\nWest Bengal\n[88.14959609]\nChhattisgarh\n[82.12509334]\nChandigarh\n[76.75872466]\nGujarat\n[72.19574739]\nHimachal Pradesh\n[76.85561814]\nMadhya Pradesh\n[78.08249213]\nBihar\n[85.63677401]\nManipur\n[93.8644935]\nMizoram\n[92.81661901]\nAndaman and Nicobar Islands\n[92.88957896]\nGoa\n[73.86601626]\nAssam\n[92.65731036]\nJharkhand\n[85.85996246]\nArunachal Pradesh\n[94.54532681]\nTripura\n[91.65871314]\nNagaland\n[94.3257526]\nMeghalaya\n[91.2375107]\nDadar Nagar Haveli\n[73.09454961]\nSikkim\n[88.51230522]\n"
    }
   ],
   "source": [
    "for state in df_statewise['loc'].unique():\n",
    "    print(state)\n",
    "    print(df_coords_state[df_coords_state['State']==state]['Longitude'].values)\n",
    "    "
   ]
  },
  {
   "cell_type": "code",
   "execution_count": 60,
   "metadata": {},
   "outputs": [
    {
     "data": {
      "text/plain": [
       "36"
      ]
     },
     "execution_count": 60,
     "metadata": {},
     "output_type": "execute_result"
    }
   ],
   "source": [
    "#import numpy as np\n",
    "df_statewise['loc'].nunique()"
   ]
  },
  {
   "cell_type": "code",
   "execution_count": 64,
   "metadata": {},
   "outputs": [
    {
     "data": {
      "text/plain": [
       "array(['Delhi', 'Haryana', 'Karnataka', 'Kerala', 'Maharashtra', 'Punjab',\n",
       "       'Rajasthan', 'Tamil Nadu', 'Telengana', 'Jammu and Kashmir',\n",
       "       'Ladakh', 'Uttar Pradesh', 'Andhra Pradesh', 'Uttarakhand',\n",
       "       'Odisha', 'Puducherry', 'West Bengal', 'Chhattisgarh',\n",
       "       'Chandigarh', 'Gujarat', 'Himachal Pradesh', 'Madhya Pradesh',\n",
       "       'Bihar', 'Manipur', 'Mizoram', 'Andaman and Nicobar Islands',\n",
       "       'Goa', 'Assam', 'Jharkhand', 'Arunachal Pradesh', 'Tripura',\n",
       "       'Nagaland', 'Meghalaya', 'Dadar Nagar Haveli', 'Sikkim',\n",
       "       'Dadra and Nagar Haveli and Daman and Diu'], dtype=object)"
      ]
     },
     "execution_count": 64,
     "metadata": {},
     "output_type": "execute_result"
    }
   ],
   "source": [
    "df_statewise['loc'].unique()"
   ]
  },
  {
   "cell_type": "code",
   "execution_count": 62,
   "metadata": {},
   "outputs": [
    {
     "data": {
      "text/html": [
       "<div>\n",
       "<style scoped>\n",
       "    .dataframe tbody tr th:only-of-type {\n",
       "        vertical-align: middle;\n",
       "    }\n",
       "\n",
       "    .dataframe tbody tr th {\n",
       "        vertical-align: top;\n",
       "    }\n",
       "\n",
       "    .dataframe thead th {\n",
       "        text-align: right;\n",
       "    }\n",
       "</style>\n",
       "<table border=\"1\" class=\"dataframe\">\n",
       "  <thead>\n",
       "    <tr style=\"text-align: right;\">\n",
       "      <th></th>\n",
       "      <th>loc</th>\n",
       "      <th>total</th>\n",
       "      <th>active</th>\n",
       "      <th>deaths</th>\n",
       "      <th>discharged</th>\n",
       "      <th>Latitude</th>\n",
       "      <th>Longitude</th>\n",
       "    </tr>\n",
       "  </thead>\n",
       "  <tbody>\n",
       "    <tr>\n",
       "      <td>2769</td>\n",
       "      <td>Dadra and Nagar Haveli and Daman and Diu</td>\n",
       "      <td>28</td>\n",
       "      <td>26</td>\n",
       "      <td>0</td>\n",
       "      <td>2</td>\n",
       "      <td>NaN</td>\n",
       "      <td>NaN</td>\n",
       "    </tr>\n",
       "    <tr>\n",
       "      <td>2804</td>\n",
       "      <td>Dadra and Nagar Haveli and Daman and Diu</td>\n",
       "      <td>30</td>\n",
       "      <td>28</td>\n",
       "      <td>0</td>\n",
       "      <td>2</td>\n",
       "      <td>NaN</td>\n",
       "      <td>NaN</td>\n",
       "    </tr>\n",
       "  </tbody>\n",
       "</table>\n",
       "</div>"
      ],
      "text/plain": [
       "                                           loc  total  active  deaths  \\\n",
       "2769  Dadra and Nagar Haveli and Daman and Diu     28      26       0   \n",
       "2804  Dadra and Nagar Haveli and Daman and Diu     30      28       0   \n",
       "\n",
       "      discharged  Latitude  Longitude  \n",
       "2769           2       NaN        NaN  \n",
       "2804           2       NaN        NaN  "
      ]
     },
     "execution_count": 62,
     "metadata": {},
     "output_type": "execute_result"
    }
   ],
   "source": [
    "df_statewise[df_statewise['loc']=='Dadra and Nagar Haveli and Daman and Diu']"
   ]
  },
  {
   "cell_type": "code",
   "execution_count": 6,
   "metadata": {},
   "outputs": [],
   "source": [
    "import plotly.graph_objects as go\n",
    "from plotly.subplots import make_subplots\n"
   ]
  },
  {
   "cell_type": "code",
   "execution_count": 49,
   "metadata": {},
   "outputs": [
    {
     "data": {
      "text/plain": [
       "array(['Delhi', 'Haryana', 'Karnataka', 'Kerala', 'Maharashtra', 'Punjab',\n",
       "       'Rajasthan', 'Tamil Nadu', 'Telengana', 'Jammu and Kashmir',\n",
       "       'Ladakh', 'Uttar Pradesh', 'Andhra Pradesh', 'Uttarakhand',\n",
       "       'Odisha', 'Puducherry', 'West Bengal', 'Chhattisgarh',\n",
       "       'Chandigarh', 'Gujarat', 'Himachal Pradesh', 'Madhya Pradesh',\n",
       "       'Bihar', 'Manipur', 'Mizoram', 'Goa', 'Assam', 'Jharkhand',\n",
       "       'Arunachal Pradesh', 'Tripura', 'Nagaland', 'Meghalaya',\n",
       "       'Dadar Nagar Haveli', 'Sikkim', 'Daman & Diu'], dtype=object)"
      ]
     },
     "execution_count": 49,
     "metadata": {},
     "output_type": "execute_result"
    }
   ],
   "source": [
    "np.delete(df_statewise['loc'].unique(),np.where(df_statewise['loc'].unique()=='Andaman and Nicobar Islands'))"
   ]
  },
  {
   "cell_type": "code",
   "execution_count": 3,
   "metadata": {},
   "outputs": [
    {
     "name": "stdout",
     "output_type": "stream",
     "text": [
      "24.148888888888887\n"
     ]
    }
   ],
   "source": [
    "import pandas as pd\n",
    "df_timestamp=pd.read_csv('df_timestamp.csv')\n",
    "timestamp=pd.to_datetime(df_timestamp.loc[0].values[0])\n",
    "from datetime import datetime\n",
    "print(((datetime.today()-timestamp).seconds/3600 + (datetime.today()-timestamp).days*24))\n"
   ]
  },
  {
   "cell_type": "code",
   "execution_count": 25,
   "metadata": {},
   "outputs": [
    {
     "data": {
      "text/plain": [
       "0        0.000000\n",
       "1        0.000000\n",
       "3        0.000000\n",
       "4        0.000000\n",
       "5        0.000000\n",
       "         ...     \n",
       "81    3423.285714\n",
       "82    3332.428571\n",
       "83    3434.714286\n",
       "84    3477.142857\n",
       "85    3899.714286\n",
       "Name: window_size_7, Length: 84, dtype: float64"
      ]
     },
     "execution_count": 25,
     "metadata": {},
     "output_type": "execute_result"
    }
   ],
   "source": [
    "df_india_daily.window_size_7"
   ]
  },
  {
   "cell_type": "code",
   "execution_count": 2,
   "metadata": {},
   "outputs": [
    {
     "name": "stdout",
     "output_type": "stream",
     "text": [
      "0.9263888888888889\n",
      "2020-06-11 19:52:07.368968\n"
     ]
    }
   ],
   "source": [
    "import pandas as pd\n",
    "df_timestamp=pd.read_csv('df_timestamp.csv')\n",
    "timestamp=pd.to_datetime(df_timestamp.loc[0].values[0])\n",
    "from datetime import datetime\n",
    "from datetime import timedelta\n",
    "print(((datetime.today()+ timedelta(seconds=19800))-timestamp).seconds/3600 + ((datetime.today()+ timedelta(seconds=19800))-timestamp).days*24)\n",
    "print(timestamp)\n"
   ]
  },
  {
   "cell_type": "code",
   "execution_count": 69,
   "metadata": {},
   "outputs": [
    {
     "data": {
      "text/plain": [
       "Timestamp('2020-06-12 11:28:00')"
      ]
     },
     "execution_count": 69,
     "metadata": {},
     "output_type": "execute_result"
    }
   ],
   "source": [
    "import pandas as pd\n",
    "df_timestamp=pd.read_csv('df_timestamp.csv')\n",
    "timestamp=pd.to_datetime(df_timestamp.loc[0].values[0])\n",
    "from datetime import datetime\n",
    "from datetime import timedelta\n",
    "timestamp"
   ]
  },
  {
   "cell_type": "code",
   "execution_count": 8,
   "metadata": {},
   "outputs": [],
   "source": [
    "def bar_chart_race_plot(df_statewise,df_india):\n",
    "    import pandas as pd\n",
    "    import matplotlib.pyplot as plt\n",
    "    import matplotlib.ticker as ticker\n",
    "    import matplotlib.animation as animation\n",
    "    #plt.rcParams['animation.ffmpeg_path'] = '/ffmpeg'\n",
    "    df_statewise.reset_index(drop=True,inplace=True)\n",
    "    colors = dict(zip(\n",
    "        ['Delhi', 'Haryana', 'Karnataka', 'Kerala', 'Maharashtra','Punjab',\n",
    "            'Tamil Nadu', 'Rajasthan','Telengana', 'Jammu and Kashmir','Ladakh', 'Uttar Pradesh',\n",
    "        'Andhra Pradesh', 'Uttarakhand','Odisha', 'Puducherry', 'West Bengal', 'Chhattisgarh',\n",
    "        'Chandigarh', 'Gujarat','Himachal Pradesh', 'Madhya Pradesh','Bihar', 'Manipur',\n",
    "        'Mizoram', 'Andaman and Nicobar Islands','Goa', 'Assam', 'Jharkhand', 'Arunachal Pradesh',\n",
    "        'Tripura','Nagaland', 'Meghalaya', 'Nagaland#', 'Jharkhand#','Madhya Pradesh#', \n",
    "        'Dadar Nagar Haveli', 'Sikkim'],\n",
    "        #lavender,pink,green,red,orange,yellow\n",
    "        ['#adb0ff', '#f25a92', '#90d595', '#e48381', '#aafbff', '#f7bb5f', '#eafb50',\n",
    "        '#adb0ff', '#ffb3ff', '#90d595', '#e48381', '#aafbff', '#f7bb5f', '#eafb50',\n",
    "        '#adb0ff', '#ffb3ff', '#90d595', '#e48381', '#aafbff', '#f7bb5f', '#eafb50',\n",
    "        '#adb0ff', '#ffb3ff', '#90d595', '#e48381', '#aafbff', '#f7bb5f', '#eafb50',\n",
    "        '#adb0ff', '#ffb3ff', '#90d595', '#e48381', '#aafbff', '#f7bb5f', '#eafb50',\n",
    "        '#adb0ff', '#ffb3ff', '#90d595']\n",
    "    ))\n",
    "    group_lk = df_statewise['loc'].to_dict()\n",
    "\n",
    "    fig, ax = plt.subplots(figsize=(15, 8))\n",
    "    def draw_barchart(date):\n",
    "        dff = df_statewise[df_statewise['date']==date].sort_values(by='total', ascending=True).tail(10)\n",
    "        ax.clear()\n",
    "        ax.barh(dff['loc'], dff['total'], color=[[colors[group_lk[x]] for x in dff.index]][0])\n",
    "        dx = dff['total'].max() / 200\n",
    "        #dx=200\n",
    "        for i, (value, name) in enumerate(zip(dff['total'], dff['loc'])):\n",
    "            ax.text(value-dx, i, name, size=14, weight=600, ha='right',color='#1a434a')\n",
    "            ax.text(value+dx, i,f'{value:,.0f}',size=14, ha='left', va='center')\n",
    "        ax.text(1, 0.4, date, transform=ax.transAxes, color='#a2a2a3', size=46, ha='right', weight=800)\n",
    "        #\n",
    "        ax.text(0, 1.06, 'Population', transform=ax.transAxes, size=12, color='#000000')\n",
    "        \n",
    "        \n",
    "        ax.xaxis.set_major_formatter(ticker.StrMethodFormatter('{x:,.0f}'))#used for inserting ',' \n",
    "        ax.xaxis.set_ticks_position('top')\n",
    "        ax.tick_params(axis='x', colors='#000000', labelsize=14)\n",
    "        ax.set_yticks([])\n",
    "        ax.margins(0, 0.01)\n",
    "        ax.grid(which='major', axis='x', linestyle='-.',color='#777777')\n",
    "        ax.set_axisbelow(True)#shifts the grids below the graph\n",
    "        \n",
    "        ax.text(0, 1.1, 'Progress of Covid-19 in India: ',color='#1a434a',\n",
    "                transform=ax.transAxes, size=24, weight=600, ha='left')\n",
    "        ax.text(1, 0, 'by Rutvik Baxi; credit @pratapvardhan', transform=ax.transAxes, ha='right',\n",
    "                color='#1a434a', bbox=dict(facecolor='white', alpha=0.8, edgecolor='white'))\n",
    "        ax.text(1, 0.05, 'Since 10th march', transform=ax.transAxes, ha='right',\n",
    "                color='#1a434a', bbox=dict(facecolor='white', alpha=0.8, edgecolor='white'))\n",
    "        plt.box(False)\n",
    "        \n",
    "    date_list = list(df_india['date'].unique())\n",
    "\n",
    "    #@st.cache\n",
    "    #def animate(fig, draw_barchart,date_list):\n",
    "    fig, ax = plt.subplots(figsize=(15, 9))\n",
    "    animator = animation.FuncAnimation(fig, draw_barchart, frames=date_list)\n",
    "        #st.write(animator.to_html5_video(),unsafe_allow_html=True)\n",
    "    return animator\n",
    "    #animate(fig, draw_barchart,date_list)\n",
    "\n",
    "\n",
    "#video_file = open('Covid_india_animation3.mp4', 'rb')\n",
    "#video_bytes = video_file.read()\n",
    "#st.video(video_bytes)\n",
    "\n"
   ]
  },
  {
   "cell_type": "code",
   "execution_count": 9,
   "metadata": {},
   "outputs": [
    {
     "name": "stderr",
     "output_type": "stream",
     "text": [
      "Animation.save using <class 'matplotlib.animation.PillowWriter'>\n"
     ]
    },
    {
     "name": "stdout",
     "output_type": "stream",
     "text": [
      "Moviepy - Building video Covid_india_animation3.mp4.\n",
      "Moviepy - Writing video Covid_india_animation3.mp4\n",
      "\n"
     ]
    },
    {
     "name": "stderr",
     "output_type": "stream",
     "text": [
      "                                                                                                                       \r"
     ]
    },
    {
     "name": "stdout",
     "output_type": "stream",
     "text": [
      "Moviepy - Done !\n",
      "Moviepy - video ready Covid_india_animation3.mp4\n"
     ]
    },
    {
     "data": {
      "image/png": "[encoded data removed]",
      "text/plain": [
       "<Figure size 1080x576 with 1 Axes>"
      ]
     },
     "metadata": {
      "needs_background": "light"
     },
     "output_type": "display_data"
    },
    {
     "data": {
      "image/png": "[encoded data removed]",
      "text/plain": [
       "<Figure size 1080x648 with 1 Axes>"
      ]
     },
     "metadata": {
      "needs_background": "light"
     },
     "output_type": "display_data"
    }
   ],
   "source": [
    "import streamlit as st\n",
    "import pandas as pd\n",
    "df_india=pd.read_csv('df_india.csv')\n",
    "df_statewise=pd.read_csv('df_statewise.csv')\n",
    "df_statewise.loc[df_statewise['loc']=='Telangana','loc']='Telengana'\n",
    "df_statewise.loc[df_statewise['loc']=='Dadra and Nagar Haveli and Daman and Diu','loc']='Dadar Nagar Haveli'\n",
    "from matplotlib import rcParams\n",
    "animator=bar_chart_race_plot(df_statewise,df_india)\n",
    "animator.save('Covid_india_animation3.gif',writer='pillow',fps=4)\n",
    "import moviepy.editor as mp\n",
    "clip = mp.VideoFileClip(\"Covid_india_animation3.gif\")\n",
    "clip.write_videofile(\"Covid_india_animation3.mp4\")"
   ]
  },
  {
   "cell_type": "code",
   "execution_count": 6,
   "metadata": {},
   "outputs": [],
   "source": [
    "import matplotlib\n"
   ]
  },
  {
   "cell_type": "code",
   "execution_count": 7,
   "metadata": {},
   "outputs": [
    {
     "data": {
      "text/plain": [
       "'3.2.1'"
      ]
     },
     "execution_count": 7,
     "metadata": {},
     "output_type": "execute_result"
    }
   ],
   "source": [
    "matplotlib.__version__"
   ]
  },
  {
   "cell_type": "code",
   "execution_count": 1,
   "metadata": {},
   "outputs": [],
   "source": [
    "# checking if we can cut the data loading\n",
    "import json\n",
    "import urllib\n",
    "import time\n",
    "import requests\n",
    "import numpy as np\n",
    "import pandas as pd\n",
    "url = \"https://api.rootnet.in/covid19-in/stats/history\"\n",
    "data = json.loads(requests.get(url).text)"
   ]
  },
  {
   "cell_type": "code",
   "execution_count": 29,
   "metadata": {},
   "outputs": [
    {
     "output_type": "execute_result",
     "data": {
      "text/plain": "[{'loc': 'Andaman and Nicobar Islands',\n  'confirmedCasesIndian': 3257,\n  'confirmedCasesForeign': 0,\n  'discharged': 2863,\n  'deaths': 49,\n  'totalConfirmed': 3257},\n {'loc': 'Andhra Pradesh',\n  'confirmedCasesIndian': 476506,\n  'confirmedCasesForeign': 0,\n  'discharged': 370163,\n  'deaths': 4276,\n  'totalConfirmed': 476506},\n {'loc': 'Arunachal Pradesh',\n  'confirmedCasesIndian': 4775,\n  'confirmedCasesForeign': 0,\n  'discharged': 3280,\n  'deaths': 7,\n  'totalConfirmed': 4775},\n {'loc': 'Assam',\n  'confirmedCasesIndian': 121224,\n  'confirmedCasesForeign': 0,\n  'discharged': 92720,\n  'deaths': 345,\n  'totalConfirmed': 121224},\n {'loc': 'Bihar',\n  'confirmedCasesIndian': 144104,\n  'confirmedCasesForeign': 0,\n  'discharged': 126371,\n  'deaths': 701,\n  'totalConfirmed': 144104},\n {'loc': 'Chandigarh',\n  'confirmedCasesIndian': 5268,\n  'confirmedCasesForeign': 0,\n  'discharged': 3105,\n  'deaths': 68,\n  'totalConfirmed': 5268},\n {'loc': 'Chhattisgarh',\n  'confirmedCasesIndian': 40634,\n  'confirmedCasesForeign': 0,\n  'discharged': 19625,\n  'deaths': 337,\n  'totalConfirmed': 40634},\n {'loc': 'Dadra and Nagar Haveli and Daman and Diu',\n  'confirmedCasesIndian': 2467,\n  'confirmedCasesForeign': 0,\n  'discharged': 2180,\n  'deaths': 2,\n  'totalConfirmed': 2467},\n {'loc': 'Delhi',\n  'confirmedCasesIndian': 185219,\n  'confirmedCasesForeign': 1,\n  'discharged': 161865,\n  'deaths': 4513,\n  'totalConfirmed': 185220},\n {'loc': 'Goa',\n  'confirmedCasesIndian': 19862,\n  'confirmedCasesForeign': 1,\n  'discharged': 14747,\n  'deaths': 220,\n  'totalConfirmed': 19863},\n {'loc': 'Gujarat',\n  'confirmedCasesIndian': 101532,\n  'confirmedCasesForeign': 1,\n  'discharged': 82273,\n  'deaths': 3076,\n  'totalConfirmed': 101533},\n {'loc': 'Haryana',\n  'confirmedCasesIndian': 71969,\n  'confirmedCasesForeign': 14,\n  'discharged': 57171,\n  'deaths': 759,\n  'totalConfirmed': 71983},\n {'loc': 'Himachal Pradesh',\n  'confirmedCasesIndian': 6830,\n  'confirmedCasesForeign': 0,\n  'discharged': 4965,\n  'deaths': 50,\n  'totalConfirmed': 6830},\n {'loc': 'Jammu and Kashmir',\n  'confirmedCasesIndian': 40990,\n  'confirmedCasesForeign': 0,\n  'discharged': 31435,\n  'deaths': 755,\n  'totalConfirmed': 40990},\n {'loc': 'Jharkhand',\n  'confirmedCasesIndian': 48039,\n  'confirmedCasesForeign': 0,\n  'discharged': 32043,\n  'deaths': 447,\n  'totalConfirmed': 48039},\n {'loc': 'Karnataka',\n  'confirmedCasesIndian': 379486,\n  'confirmedCasesForeign': 0,\n  'discharged': 274196,\n  'deaths': 6170,\n  'totalConfirmed': 379486},\n {'loc': 'Kerala',\n  'confirmedCasesIndian': 82096,\n  'confirmedCasesForeign': 8,\n  'discharged': 60444,\n  'deaths': 326,\n  'totalConfirmed': 82104},\n {'loc': 'Ladakh',\n  'confirmedCasesIndian': 2935,\n  'confirmedCasesForeign': 0,\n  'discharged': 2085,\n  'deaths': 35,\n  'totalConfirmed': 2935},\n {'loc': 'Lakshadweep',\n  'confirmedCasesIndian': 0,\n  'confirmedCasesForeign': 0,\n  'discharged': 0,\n  'deaths': 0,\n  'totalConfirmed': 0},\n {'loc': 'Madhya Pradesh',\n  'confirmedCasesIndian': 70244,\n  'confirmedCasesForeign': 0,\n  'discharged': 53257,\n  'deaths': 1513,\n  'totalConfirmed': 70244},\n {'loc': 'Maharashtra',\n  'confirmedCasesIndian': 863059,\n  'confirmedCasesForeign': 3,\n  'discharged': 625773,\n  'deaths': 25964,\n  'totalConfirmed': 863062},\n {'loc': 'Manipur',\n  'confirmedCasesIndian': 6699,\n  'confirmedCasesForeign': 0,\n  'discharged': 4899,\n  'deaths': 35,\n  'totalConfirmed': 6699},\n {'loc': 'Meghalaya',\n  'confirmedCasesIndian': 2734,\n  'confirmedCasesForeign': 0,\n  'discharged': 1468,\n  'deaths': 14,\n  'totalConfirmed': 2734},\n {'loc': 'Mizoram',\n  'confirmedCasesIndian': 1046,\n  'confirmedCasesForeign': 0,\n  'discharged': 683,\n  'deaths': 0,\n  'totalConfirmed': 1046},\n {'loc': 'Nagaland',\n  'confirmedCasesIndian': 4107,\n  'confirmedCasesForeign': 0,\n  'discharged': 3361,\n  'deaths': 10,\n  'totalConfirmed': 4107},\n {'loc': 'Odisha',\n  'confirmedCasesIndian': 116678,\n  'confirmedCasesForeign': 0,\n  'discharged': 90331,\n  'deaths': 531,\n  'totalConfirmed': 116678},\n {'loc': 'Puducherry',\n  'confirmedCasesIndian': 16164,\n  'confirmedCasesForeign': 0,\n  'discharged': 10674,\n  'deaths': 280,\n  'totalConfirmed': 16164},\n {'loc': 'Punjab',\n  'confirmedCasesIndian': 60013,\n  'confirmedCasesForeign': 0,\n  'discharged': 42543,\n  'deaths': 1739,\n  'totalConfirmed': 60013},\n {'loc': 'Rajasthan',\n  'confirmedCasesIndian': 87795,\n  'confirmedCasesForeign': 2,\n  'discharged': 71899,\n  'deaths': 1108,\n  'totalConfirmed': 87797},\n {'loc': 'Sikkim',\n  'confirmedCasesIndian': 1843,\n  'confirmedCasesForeign': 0,\n  'discharged': 1329,\n  'deaths': 5,\n  'totalConfirmed': 1843},\n {'loc': 'Tamil Nadu',\n  'confirmedCasesIndian': 451821,\n  'confirmedCasesForeign': 6,\n  'discharged': 392507,\n  'deaths': 7687,\n  'totalConfirmed': 451827},\n {'loc': 'Telengana',\n  'confirmedCasesIndian': 138385,\n  'confirmedCasesForeign': 10,\n  'discharged': 104603,\n  'deaths': 877,\n  'totalConfirmed': 138395},\n {'loc': 'Tripura',\n  'confirmedCasesIndian': 14507,\n  'confirmedCasesForeign': 0,\n  'discharged': 8483,\n  'deaths': 136,\n  'totalConfirmed': 14507},\n {'loc': 'Uttarakhand',\n  'confirmedCasesIndian': 23010,\n  'confirmedCasesForeign': 1,\n  'discharged': 15511,\n  'deaths': 312,\n  'totalConfirmed': 23011},\n {'loc': 'Uttar Pradesh',\n  'confirmedCasesIndian': 253174,\n  'confirmedCasesForeign': 1,\n  'discharged': 190818,\n  'deaths': 3762,\n  'totalConfirmed': 253175},\n {'loc': 'West Bengal',\n  'confirmedCasesIndian': 174659,\n  'confirmedCasesForeign': 0,\n  'discharged': 147553,\n  'deaths': 3452,\n  'totalConfirmed': 174659}]"
     },
     "metadata": {},
     "execution_count": 29
    }
   ],
   "source": [
    "data['data'][179]['regional']"
   ]
  },
  {
   "cell_type": "code",
   "execution_count": 17,
   "metadata": {},
   "outputs": [
    {
     "output_type": "execute_result",
     "data": {
      "text/plain": "180"
     },
     "metadata": {},
     "execution_count": 17
    }
   ],
   "source": [
    "df_india['date'].count()"
   ]
  },
  {
   "cell_type": "code",
   "execution_count": 26,
   "metadata": {
    "tags": []
   },
   "outputs": [
    {
     "output_type": "stream",
     "name": "stdout",
     "text": "--\n   A  B\n0  1  2\n1  3  4\n2  5  6\n3  7  8\n"
    }
   ],
   "source": [
    "df = pd.DataFrame([[1, 2], [3, 4]], columns=list('AB'))\n",
    "#print(df)\n",
    "print('--')\n",
    "df2 = pd.DataFrame([[5, 6], [7, 8]], columns=list('AB'))\n",
    "df.append(df2, ignore_index=True)\n",
    "print(df)"
   ]
  },
  {
   "cell_type": "code",
   "execution_count": null,
   "metadata": {},
   "outputs": [],
   "source": []
  }
 ],
 "metadata": {
  "kernelspec": {
   "display_name": "Python 3",
   "language": "python",
   "name": "python3"
  },
  "language_info": {
   "codemirror_mode": {
    "name": "ipython",
    "version": 3
   },
   "file_extension": ".py",
   "mimetype": "text/x-python",
   "name": "python",
   "nbconvert_exporter": "python",
   "pygments_lexer": "ipython3",
   "version": "3.7.4"
  }
 },
 "nbformat": 4,
 "nbformat_minor": 2
}